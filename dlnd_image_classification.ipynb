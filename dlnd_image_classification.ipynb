{
 "cells": [
  {
   "cell_type": "markdown",
   "metadata": {
    "collapsed": true,
    "deletable": true,
    "editable": true
   },
   "source": [
    "# Image Classification\n",
    "In this project, you'll classify images from the [CIFAR-10 dataset](https://www.cs.toronto.edu/~kriz/cifar.html).  The dataset consists of airplanes, dogs, cats, and other objects. You'll preprocess the images, then train a convolutional neural network on all the samples. The images need to be normalized and the labels need to be one-hot encoded.  You'll get to apply what you learned and build a convolutional, max pooling, dropout, and fully connected layers.  At the end, you'll get to see your neural network's predictions on the sample images.\n",
    "## Get the Data\n",
    "Run the following cell to download the [CIFAR-10 dataset for python](https://www.cs.toronto.edu/~kriz/cifar-10-python.tar.gz)."
   ]
  },
  {
   "cell_type": "code",
   "execution_count": 2,
   "metadata": {
    "collapsed": false,
    "deletable": true,
    "editable": true
   },
   "outputs": [
    {
     "name": "stdout",
     "output_type": "stream",
     "text": [
      "All files found!\n"
     ]
    }
   ],
   "source": [
    "\"\"\"\n",
    "DON'T MODIFY ANYTHING IN THIS CELL THAT IS BELOW THIS LINE\n",
    "\"\"\"\n",
    "from urllib.request import urlretrieve\n",
    "from os.path import isfile, isdir\n",
    "from tqdm import tqdm\n",
    "import problem_unittests as tests\n",
    "import tarfile\n",
    "\n",
    "cifar10_dataset_folder_path = 'cifar-10-batches-py'\n",
    "\n",
    "# Use Floyd's cifar-10 dataset if present\n",
    "floyd_cifar10_location = '/input/cifar-10/python.tar.gz'\n",
    "if isfile(floyd_cifar10_location):\n",
    "    tar_gz_path = floyd_cifar10_location\n",
    "else:\n",
    "    tar_gz_path = 'cifar-10-python.tar.gz'\n",
    "\n",
    "class DLProgress(tqdm):\n",
    "    last_block = 0\n",
    "\n",
    "    def hook(self, block_num=1, block_size=1, total_size=None):\n",
    "        self.total = total_size\n",
    "        self.update((block_num - self.last_block) * block_size)\n",
    "        self.last_block = block_num\n",
    "\n",
    "if not isfile(tar_gz_path):\n",
    "    with DLProgress(unit='B', unit_scale=True, miniters=1, desc='CIFAR-10 Dataset') as pbar:\n",
    "        urlretrieve(\n",
    "            'https://www.cs.toronto.edu/~kriz/cifar-10-python.tar.gz',\n",
    "            tar_gz_path,\n",
    "            pbar.hook)\n",
    "\n",
    "if not isdir(cifar10_dataset_folder_path):\n",
    "    with tarfile.open(tar_gz_path) as tar:\n",
    "        tar.extractall()\n",
    "        tar.close()\n",
    "\n",
    "\n",
    "tests.test_folder_path(cifar10_dataset_folder_path)"
   ]
  },
  {
   "cell_type": "markdown",
   "metadata": {
    "deletable": true,
    "editable": true
   },
   "source": [
    "## Explore the Data\n",
    "The dataset is broken into batches to prevent your machine from running out of memory.  The CIFAR-10 dataset consists of 5 batches, named `data_batch_1`, `data_batch_2`, etc.. Each batch contains the labels and images that are one of the following:\n",
    "* airplane\n",
    "* automobile\n",
    "* bird\n",
    "* cat\n",
    "* deer\n",
    "* dog\n",
    "* frog\n",
    "* horse\n",
    "* ship\n",
    "* truck\n",
    "\n",
    "Understanding a dataset is part of making predictions on the data.  Play around with the code cell below by changing the `batch_id` and `sample_id`. The `batch_id` is the id for a batch (1-5). The `sample_id` is the id for a image and label pair in the batch.\n",
    "\n",
    "Ask yourself \"What are all possible labels?\", \"What is the range of values for the image data?\", \"Are the labels in order or random?\".  Answers to questions like these will help you preprocess the data and end up with better predictions."
   ]
  },
  {
   "cell_type": "code",
   "execution_count": 3,
   "metadata": {
    "collapsed": false,
    "deletable": true,
    "editable": true
   },
   "outputs": [
    {
     "name": "stdout",
     "output_type": "stream",
     "text": [
      "\n",
      "Stats of batch 1:\n",
      "Samples: 10000\n",
      "Label Counts: {0: 1005, 1: 974, 2: 1032, 3: 1016, 4: 999, 5: 937, 6: 1030, 7: 1001, 8: 1025, 9: 981}\n",
      "First 20 Labels: [6, 9, 9, 4, 1, 1, 2, 7, 8, 3, 4, 7, 7, 2, 9, 9, 9, 3, 2, 6]\n",
      "\n",
      "Example of Image 5:\n",
      "Image - Min Value: 0 Max Value: 252\n",
      "Image - Shape: (32, 32, 3)\n",
      "Label - Label Id: 1 Name: automobile\n"
     ]
    },
    {
     "data": {
      "image/png": "[encoded data removed]",
      "text/plain": [
       "<matplotlib.figure.Figure at 0x7fb75d0a2e48>"
      ]
     },
     "metadata": {
      "image/png": {
       "height": 250,
       "width": 253
      }
     },
     "output_type": "display_data"
    }
   ],
   "source": [
    "%matplotlib inline\n",
    "%config InlineBackend.figure_format = 'retina'\n",
    "\n",
    "import helper\n",
    "import numpy as np\n",
    "\n",
    "# Explore the dataset\n",
    "batch_id = 1\n",
    "sample_id = 5\n",
    "helper.display_stats(cifar10_dataset_folder_path, batch_id, sample_id)"
   ]
  },
  {
   "cell_type": "markdown",
   "metadata": {
    "deletable": true,
    "editable": true
   },
   "source": [
    "## Implement Preprocess Functions\n",
    "### Normalize\n",
    "In the cell below, implement the `normalize` function to take in image data, `x`, and return it as a normalized Numpy array. The values should be in the range of 0 to 1, inclusive.  The return object should be the same shape as `x`."
   ]
  },
  {
   "cell_type": "code",
   "execution_count": 4,
   "metadata": {
    "collapsed": false,
    "deletable": true,
    "editable": true
   },
   "outputs": [
    {
     "name": "stdout",
     "output_type": "stream",
     "text": [
      "Tests Passed\n"
     ]
    }
   ],
   "source": [
    "def normalize(x):\n",
    "    \"\"\"\n",
    "    Normalize a list of sample image data in the range of 0 to 1\n",
    "    : x: List of image data.  The image shape is (32, 32, 3)\n",
    "    : return: Numpy array of normalize data\n",
    "    \"\"\"\n",
    "    # TODO: Implement Function\n",
    "    return (x-x.min())/(x.max()-x.min())\n",
    "\n",
    "\n",
    "\"\"\"\n",
    "DON'T MODIFY ANYTHING IN THIS CELL THAT IS BELOW THIS LINE\n",
    "\"\"\"\n",
    "tests.test_normalize(normalize)"
   ]
  },
  {
   "cell_type": "markdown",
   "metadata": {
    "deletable": true,
    "editable": true
   },
   "source": [
    "### One-hot encode\n",
    "Just like the previous code cell, you'll be implementing a function for preprocessing.  This time, you'll implement the `one_hot_encode` function. The input, `x`, are a list of labels.  Implement the function to return the list of labels as One-Hot encoded Numpy array.  The possible values for labels are 0 to 9. The one-hot encoding function should return the same encoding for each value between each call to `one_hot_encode`.  Make sure to save the map of encodings outside the function.\n",
    "\n",
    "Hint: Don't reinvent the wheel."
   ]
  },
  {
   "cell_type": "code",
   "execution_count": 5,
   "metadata": {
    "collapsed": false,
    "deletable": true,
    "editable": true
   },
   "outputs": [
    {
     "name": "stdout",
     "output_type": "stream",
     "text": [
      "Tests Passed\n"
     ]
    }
   ],
   "source": [
    "import numpy as np\n",
    "\n",
    "def one_hot_encode(x):\n",
    "    \"\"\"\n",
    "    One hot encode a list of sample labels. Return a one-hot encoded vector for each label.\n",
    "    : x: List of sample Labels\n",
    "    : return: Numpy array of one-hot encoded labels\n",
    "    \"\"\"\n",
    "    # TODO: Implement Function\n",
    "     \n",
    "    #x_ret = np.zeros((len(x), 10))\n",
    "    #for i in range(len(x)):\n",
    "    #    x_ret[i,x[i]] = 1\n",
    "    #return x_ret\n",
    "    return np.eye(10)[x]\n",
    "\n",
    "\"\"\"\n",
    "DON'T MODIFY ANYTHING IN THIS CELL THAT IS BELOW THIS LINE\n",
    "\"\"\"\n",
    "tests.test_one_hot_encode(one_hot_encode)"
   ]
  },
  {
   "cell_type": "markdown",
   "metadata": {
    "deletable": true,
    "editable": true
   },
   "source": [
    "### Randomize Data\n",
    "As you saw from exploring the data above, the order of the samples are randomized.  It doesn't hurt to randomize it again, but you don't need to for this dataset."
   ]
  },
  {
   "cell_type": "markdown",
   "metadata": {
    "deletable": true,
    "editable": true
   },
   "source": [
    "## Preprocess all the data and save it\n",
    "Running the code cell below will preprocess all the CIFAR-10 data and save it to file. The code below also uses 10% of the training data for validation."
   ]
  },
  {
   "cell_type": "code",
   "execution_count": 6,
   "metadata": {
    "collapsed": false,
    "deletable": true,
    "editable": true
   },
   "outputs": [],
   "source": [
    "\"\"\"\n",
    "DON'T MODIFY ANYTHING IN THIS CELL\n",
    "\"\"\"\n",
    "# Preprocess Training, Validation, and Testing Data\n",
    "helper.preprocess_and_save_data(cifar10_dataset_folder_path, normalize, one_hot_encode)"
   ]
  },
  {
   "cell_type": "markdown",
   "metadata": {
    "deletable": true,
    "editable": true
   },
   "source": [
    "# Check Point\n",
    "This is your first checkpoint.  If you ever decide to come back to this notebook or have to restart the notebook, you can start from here.  The preprocessed data has been saved to disk."
   ]
  },
  {
   "cell_type": "code",
   "execution_count": 7,
   "metadata": {
    "collapsed": true,
    "deletable": true,
    "editable": true
   },
   "outputs": [],
   "source": [
    "\"\"\"\n",
    "DON'T MODIFY ANYTHING IN THIS CELL\n",
    "\"\"\"\n",
    "import pickle\n",
    "import problem_unittests as tests\n",
    "import helper\n",
    "\n",
    "# Load the Preprocessed Validation data\n",
    "valid_features, valid_labels = pickle.load(open('preprocess_validation.p', mode='rb'))"
   ]
  },
  {
   "cell_type": "code",
   "execution_count": 8,
   "metadata": {
    "collapsed": false,
    "deletable": true,
    "editable": true
   },
   "outputs": [
    {
     "name": "stdout",
     "output_type": "stream",
     "text": [
      "(5000, 32, 32, 3)\n"
     ]
    }
   ],
   "source": [
    "print(valid_features.shape)"
   ]
  },
  {
   "cell_type": "code",
   "execution_count": 9,
   "metadata": {
    "collapsed": false,
    "deletable": true,
    "editable": true
   },
   "outputs": [
    {
     "name": "stdout",
     "output_type": "stream",
     "text": [
      "[ 0.08235294  0.11764706  0.04705882]\n"
     ]
    }
   ],
   "source": [
    "print(valid_features[2][1][1])"
   ]
  },
  {
   "cell_type": "markdown",
   "metadata": {
    "deletable": true,
    "editable": true
   },
   "source": [
    "## Build the network\n",
    "For the neural network, you'll build each layer into a function.  Most of the code you've seen has been outside of functions. To test your code more thoroughly, we require that you put each layer in a function.  This allows us to give you better feedback and test for simple mistakes using our unittests before you submit your project.\n",
    "\n",
    ">**Note:** If you're finding it hard to dedicate enough time for this course each week, we've provided a small shortcut to this part of the project. In the next couple of problems, you'll have the option to use classes from the [TensorFlow Layers](https://www.tensorflow.org/api_docs/python/tf/layers) or [TensorFlow Layers (contrib)](https://www.tensorflow.org/api_guides/python/contrib.layers) packages to build each layer, except the layers you build in the \"Convolutional and Max Pooling Layer\" section.  TF Layers is similar to Keras's and TFLearn's abstraction to layers, so it's easy to pickup.\n",
    "\n",
    ">However, if you would like to get the most out of this course, try to solve all the problems _without_ using anything from the TF Layers packages. You **can** still use classes from other packages that happen to have the same name as ones you find in TF Layers! For example, instead of using the TF Layers version of the `conv2d` class, [tf.layers.conv2d](https://www.tensorflow.org/api_docs/python/tf/layers/conv2d), you would want to use the TF Neural Network version of `conv2d`, [tf.nn.conv2d](https://www.tensorflow.org/api_docs/python/tf/nn/conv2d). \n",
    "\n",
    "Let's begin!\n",
    "\n",
    "### Input\n",
    "The neural network needs to read the image data, one-hot encoded labels, and dropout keep probability. Implement the following functions\n",
    "* Implement `neural_net_image_input`\n",
    " * Return a [TF Placeholder](https://www.tensorflow.org/api_docs/python/tf/placeholder)\n",
    " * Set the shape using `image_shape` with batch size set to `None`.\n",
    " * Name the TensorFlow placeholder \"x\" using the TensorFlow `name` parameter in the [TF Placeholder](https://www.tensorflow.org/api_docs/python/tf/placeholder).\n",
    "* Implement `neural_net_label_input`\n",
    " * Return a [TF Placeholder](https://www.tensorflow.org/api_docs/python/tf/placeholder)\n",
    " * Set the shape using `n_classes` with batch size set to `None`.\n",
    " * Name the TensorFlow placeholder \"y\" using the TensorFlow `name` parameter in the [TF Placeholder](https://www.tensorflow.org/api_docs/python/tf/placeholder).\n",
    "* Implement `neural_net_keep_prob_input`\n",
    " * Return a [TF Placeholder](https://www.tensorflow.org/api_docs/python/tf/placeholder) for dropout keep probability.\n",
    " * Name the TensorFlow placeholder \"keep_prob\" using the TensorFlow `name` parameter in the [TF Placeholder](https://www.tensorflow.org/api_docs/python/tf/placeholder).\n",
    "\n",
    "These names will be used at the end of the project to load your saved model.\n",
    "\n",
    "Note: `None` for shapes in TensorFlow allow for a dynamic size."
   ]
  },
  {
   "cell_type": "code",
   "execution_count": 10,
   "metadata": {
    "collapsed": false,
    "deletable": true,
    "editable": true
   },
   "outputs": [
    {
     "name": "stdout",
     "output_type": "stream",
     "text": [
      "Image Input Tests Passed.\n",
      "Label Input Tests Passed.\n",
      "Keep Prob Tests Passed.\n"
     ]
    }
   ],
   "source": [
    "import tensorflow as tf\n",
    "\n",
    "def neural_net_image_input(image_shape):\n",
    "    \"\"\"\n",
    "    Return a Tensor for a batch of image input\n",
    "    : image_shape: Shape of the images\n",
    "    : return: Tensor for image input.\n",
    "    \"\"\"\n",
    "    # TODO: Implement Function\n",
    "    #shape =[None,]+list(image_shape)  \n",
    "    shape=(None, *image_shape)\n",
    "    x = tf.placeholder(tf.float32, shape, name='x')\n",
    "    return x\n",
    "\n",
    "\n",
    "def neural_net_label_input(n_classes):\n",
    "    \"\"\"\n",
    "    Return a Tensor for a batch of label input\n",
    "    : n_classes: Number of classes\n",
    "    : return: Tensor for label input.\n",
    "    \"\"\"\n",
    "    # TODO: Implement Function\n",
    "    shape =[None,n_classes]\n",
    "    y = tf.placeholder(tf.float32,shape, name='y')\n",
    "    return y\n",
    "\n",
    "\n",
    "def neural_net_keep_prob_input():\n",
    "    \"\"\"\n",
    "    Return a Tensor for keep probability\n",
    "    : return: Tensor for keep probability.\n",
    "    \"\"\"\n",
    "    # TODO: Implement Function \n",
    "    prob = tf.placeholder(tf.float32,None, name='keep_prob')\n",
    "    return prob\n",
    "\n",
    "\"\"\"\n",
    "DON'T MODIFY ANYTHING IN THIS CELL THAT IS BELOW THIS LINE\n",
    "\"\"\"\n",
    "tf.reset_default_graph()\n",
    "tests.test_nn_image_inputs(neural_net_image_input)\n",
    "tests.test_nn_label_inputs(neural_net_label_input)\n",
    "tests.test_nn_keep_prob_inputs(neural_net_keep_prob_input)"
   ]
  },
  {
   "cell_type": "markdown",
   "metadata": {
    "deletable": true,
    "editable": true
   },
   "source": [
    "### Convolution and Max Pooling Layer\n",
    "Convolution layers have a lot of success with images. For this code cell, you should implement the function `conv2d_maxpool` to apply convolution then max pooling:\n",
    "* Create the weight and bias using `conv_ksize`, `conv_num_outputs` and the shape of `x_tensor`.\n",
    "* Apply a convolution to `x_tensor` using weight and `conv_strides`.\n",
    " * We recommend you use same padding, but you're welcome to use any padding.\n",
    "* Add bias\n",
    "* Add a nonlinear activation to the convolution.\n",
    "* Apply Max Pooling using `pool_ksize` and `pool_strides`.\n",
    " * We recommend you use same padding, but you're welcome to use any padding.\n",
    "\n",
    "**Note:** You **can't** use [TensorFlow Layers](https://www.tensorflow.org/api_docs/python/tf/layers) or [TensorFlow Layers (contrib)](https://www.tensorflow.org/api_guides/python/contrib.layers) for **this** layer, but you can still use TensorFlow's [Neural Network](https://www.tensorflow.org/api_docs/python/tf/nn) package. You may still use the shortcut option for all the **other** layers."
   ]
  },
  {
   "cell_type": "code",
   "execution_count": 11,
   "metadata": {
    "collapsed": false,
    "deletable": true,
    "editable": true
   },
   "outputs": [
    {
     "name": "stdout",
     "output_type": "stream",
     "text": [
      "Size: (2, 2, 5, 10)\n",
      "strides: ( 4 4 )\n",
      "Tests Passed\n"
     ]
    }
   ],
   "source": [
    "from math import sqrt\n",
    "def conv2d_maxpool(x_tensor, conv_num_outputs, conv_ksize, conv_strides, pool_ksize, pool_strides):\n",
    "    \"\"\"\n",
    "    Apply convolution then max pooling to x_tensor\n",
    "    :param x_tensor: TensorFlow Tensor\n",
    "    :param conv_num_outputs: Number of outputs for the convolutional layer\n",
    "    :param conv_ksize: kernal size 2-D Tuple for the convolutional layer\n",
    "    :param conv_strides: Stride 2-D Tuple for convolution\n",
    "    :param pool_ksize: kernal size 2-D Tuple for pool\n",
    "    :param pool_strides: Stride 2-D Tuple for pool\n",
    "    : return: A tensor that represents convolution and max pooling of x_tensor\n",
    "    \"\"\"\n",
    "    # TODO: Implement Function\n",
    "    shapeIn=x_tensor.get_shape().as_list()\n",
    "    size = (conv_ksize[0],conv_ksize[1],shapeIn[3],conv_num_outputs)\n",
    "    print(\"Size:\",size )\n",
    "    W= tf.Variable(tf.truncated_normal(size,0,(1/sqrt(shapeIn[1]*shapeIn[2]*shapeIn[3])) ))\n",
    "    B= tf.Variable(tf.zeros(conv_num_outputs))\n",
    "    print(\"strides: (\",conv_strides[0],conv_strides[1],\")\")\n",
    "    x_tensor = tf.nn.conv2d(x_tensor, W, strides=[1, conv_strides[0], conv_strides[1], 1], padding='SAME')\n",
    "    x_tensor = tf.nn.bias_add(x_tensor, B)\n",
    "    x_tensor = tf.nn.relu(x_tensor)\n",
    "    x_tensor = tf.nn.max_pool(\n",
    "        x_tensor,\n",
    "        ksize=[1, pool_ksize[0], pool_ksize[1], 1],\n",
    "        strides=[1, pool_strides[0], pool_strides[1], 1],\n",
    "        padding='SAME')\n",
    "    \n",
    "    return x_tensor \n",
    "\n",
    "\n",
    "\"\"\"\n",
    "DON'T MODIFY ANYTHING IN THIS CELL THAT IS BELOW THIS LINE\n",
    "\"\"\"\n",
    "tests.test_con_pool(conv2d_maxpool)"
   ]
  },
  {
   "cell_type": "markdown",
   "metadata": {
    "deletable": true,
    "editable": true
   },
   "source": [
    "### Flatten Layer\n",
    "Implement the `flatten` function to change the dimension of `x_tensor` from a 4-D tensor to a 2-D tensor.  The output should be the shape (*Batch Size*, *Flattened Image Size*). Shortcut option: you can use classes from the [TensorFlow Layers](https://www.tensorflow.org/api_docs/python/tf/layers) or [TensorFlow Layers (contrib)](https://www.tensorflow.org/api_guides/python/contrib.layers) packages for this layer. For more of a challenge, only use other TensorFlow packages."
   ]
  },
  {
   "cell_type": "code",
   "execution_count": 16,
   "metadata": {
    "collapsed": false,
    "deletable": true,
    "editable": true
   },
   "outputs": [
    {
     "name": "stdout",
     "output_type": "stream",
     "text": [
      "[None, 10, 30, 6]\n",
      "Tests Passed\n"
     ]
    }
   ],
   "source": [
    "def flatten(x_tensor):\n",
    "    \"\"\"\n",
    "    Flatten x_tensor to (Batch Size, Flattened Image Size)\n",
    "    : x_tensor: A tensor of size (Batch Size, ...), where ... are the image dimensions.\n",
    "    : return: A tensor of size (Batch Size, Flattened Image Size).\n",
    "    \"\"\"\n",
    "    # TODO: Implement Function\n",
    "    \n",
    "    shapeIn=x_tensor.get_shape().as_list()\n",
    "    print(shapeIn)\n",
    "    #flat= shapeIn[1]*shapeIn[2]*shapeIn[3]\n",
    "    # =[-1,flat]\n",
    "    #x_tensor=tf.reshape(x_tensor,newShape)\n",
    "    #print(x_tensor.get_shape().as_list())\n",
    "    #return x_tensor\n",
    "    return tf.contrib.layers.flatten(x_tensor)\n",
    "\n",
    "\"\"\"\n",
    "DON'T MODIFY ANYTHING IN THIS CELL THAT IS BELOW THIS LINE\n",
    "\"\"\"\n",
    "tests.test_flatten(flatten)"
   ]
  },
  {
   "cell_type": "markdown",
   "metadata": {
    "deletable": true,
    "editable": true
   },
   "source": [
    "### Fully-Connected Layer\n",
    "Implement the `fully_conn` function to apply a fully connected layer to `x_tensor` with the shape (*Batch Size*, *num_outputs*). Shortcut option: you can use classes from the [TensorFlow Layers](https://www.tensorflow.org/api_docs/python/tf/layers) or [TensorFlow Layers (contrib)](https://www.tensorflow.org/api_guides/python/contrib.layers) packages for this layer. For more of a challenge, only use other TensorFlow packages."
   ]
  },
  {
   "cell_type": "code",
   "execution_count": 17,
   "metadata": {
    "collapsed": false,
    "deletable": true,
    "editable": true
   },
   "outputs": [
    {
     "name": "stdout",
     "output_type": "stream",
     "text": [
      "Tests Passed\n"
     ]
    }
   ],
   "source": [
    "def fully_conn(x_tensor, num_outputs):\n",
    "    \"\"\"\n",
    "    Apply a fully connected layer to x_tensor using weight and bias\n",
    "    : x_tensor: A 2-D tensor where the first dimension is batch size.\n",
    "    : num_outputs: The number of output that the new tensor should be.\n",
    "    : return: A 2-D tensor where the second dimension is num_outputs.\n",
    "    \"\"\"\n",
    "    # TODO: Implement Function\n",
    "    shapeIn=x_tensor.get_shape().as_list()\n",
    "    weights=tf.Variable(tf.truncated_normal([shapeIn[1],num_outputs], 0,0.01))\n",
    "    biases = tf.Variable(tf.zeros(num_outputs))\n",
    "    #biases = tf.Variable(tf.truncated_normal([num_outputs],0,0.01))\n",
    "    \n",
    "    x_tensor = tf.add(tf.matmul(x_tensor, weights), biases)\n",
    "  \n",
    "    return tf.nn.relu(x_tensor)\n",
    "\n",
    "\n",
    "\"\"\"\n",
    "DON'T MODIFY ANYTHING IN THIS CELL THAT IS BELOW THIS LINE\n",
    "\"\"\"\n",
    "tests.test_fully_conn(fully_conn)"
   ]
  },
  {
   "cell_type": "markdown",
   "metadata": {
    "deletable": true,
    "editable": true
   },
   "source": [
    "### Output Layer\n",
    "Implement the `output` function to apply a fully connected layer to `x_tensor` with the shape (*Batch Size*, *num_outputs*). Shortcut option: you can use classes from the [TensorFlow Layers](https://www.tensorflow.org/api_docs/python/tf/layers) or [TensorFlow Layers (contrib)](https://www.tensorflow.org/api_guides/python/contrib.layers) packages for this layer. For more of a challenge, only use other TensorFlow packages.\n",
    "\n",
    "**Note:** Activation, softmax, or cross entropy should **not** be applied to this."
   ]
  },
  {
   "cell_type": "code",
   "execution_count": 18,
   "metadata": {
    "collapsed": false,
    "deletable": true,
    "editable": true
   },
   "outputs": [
    {
     "name": "stdout",
     "output_type": "stream",
     "text": [
      "Tests Passed\n"
     ]
    }
   ],
   "source": [
    "def output(x_tensor, num_outputs):\n",
    "    \"\"\"\n",
    "    Apply a output layer to x_tensor using weight and bias\n",
    "    : x_tensor: A 2-D tensor where the first dimension is batch size.\n",
    "    : num_outputs: The number of output that the new tensor should be.\n",
    "    : return: A 2-D tensor where the second dimension is num_outputs.\n",
    "    \"\"\"\n",
    "    # TODO: Implement Function\n",
    "\n",
    "    shapeIn=x_tensor.get_shape().as_list()\n",
    "    weights=tf.Variable(tf.truncated_normal([shapeIn[1],num_outputs], 0,0.01))\n",
    "    biases = tf.Variable(tf.zeros(num_outputs))\n",
    "    \n",
    "    x_tensor = tf.add(tf.matmul(x_tensor, weights), biases)\n",
    "  \n",
    "    return x_tensor\n",
    "\n",
    "\n",
    "\"\"\"\n",
    "DON'T MODIFY ANYTHING IN THIS CELL THAT IS BELOW THIS LINE\n",
    "\"\"\"\n",
    "tests.test_output(output)"
   ]
  },
  {
   "cell_type": "markdown",
   "metadata": {
    "deletable": true,
    "editable": true
   },
   "source": [
    "### Create Convolutional Model\n",
    "Implement the function `conv_net` to create a convolutional neural network model. The function takes in a batch of images, `x`, and outputs logits.  Use the layers you created above to create this model:\n",
    "\n",
    "* Apply 1, 2, or 3 Convolution and Max Pool layers\n",
    "* Apply a Flatten Layer\n",
    "* Apply 1, 2, or 3 Fully Connected Layers\n",
    "* Apply an Output Layer\n",
    "* Return the output\n",
    "* Apply [TensorFlow's Dropout](https://www.tensorflow.org/api_docs/python/tf/nn/dropout) to one or more layers in the model using `keep_prob`. "
   ]
  },
  {
   "cell_type": "code",
   "execution_count": 19,
   "metadata": {
    "collapsed": false,
    "deletable": true,
    "editable": true
   },
   "outputs": [
    {
     "name": "stdout",
     "output_type": "stream",
     "text": [
      "Size: (4, 4, 3, 64)\n",
      "strides: ( 2 2 )\n",
      "[None, 16, 16, 64]\n",
      "64\n",
      "Size: (4, 4, 3, 64)\n",
      "strides: ( 2 2 )\n",
      "[None, 16, 16, 64]\n",
      "64\n",
      "Neural Network Built!\n"
     ]
    }
   ],
   "source": [
    "def conv_net(x, keep_prob):\n",
    "    \"\"\"\n",
    "    Create a convolutional neural network model\n",
    "    : x: Placeholder tensor that holds image data.\n",
    "    : keep_prob: Placeholder tensor that hold dropout keep probability.\n",
    "    : return: Tensor that represents logits\n",
    "    \"\"\"\n",
    "    conv_num_outputs = 64\n",
    "    conv_ksize = (4,4)\n",
    "    conv_strides = (2,2)\n",
    "    pool_ksize = (4,4)\n",
    "    pool_strides = (1,1)\n",
    "    num_outputs = 10\n",
    "    num_outputs_fully = 64\n",
    "    \n",
    "    # TODO: Apply 1, 2, or 3 Convolution and Max Pool layers\n",
    "    #    Play around with different number of outputs, kernel size and stride\n",
    "    # Function Definition from Above:\n",
    "    #    conv2d_maxpool(x_tensor, conv_num_outputs, conv_ksize, conv_strides, pool_ksize, pool_strides)\n",
    "    x_tensor = conv2d_maxpool(x, conv_num_outputs, conv_ksize, conv_strides, pool_ksize, pool_strides)\n",
    "    #x_tensor = tf.nn.dropout(x_tensor, keep_prob)\n",
    "    \n",
    "    # TODO: Apply a Flatten Layer\n",
    "    # Function Definition from Above:\n",
    "    #   flatten(x_tensor)\n",
    "    x_tensor = flatten(x_tensor)\n",
    "    \n",
    "    \n",
    "    # TODO: Apply 1, 2, or 3 Fully Connected Layers\n",
    "    #    Play around with different number of outputs\n",
    "    # Function Definition from Above:\n",
    "    #   fully_conn(x_tensor, num_outputs)\n",
    "    x_tensor = fully_conn(x_tensor, num_outputs_fully)\n",
    "    #x_tensor = tf.nn.relu(x_tensor)\n",
    "    x_tensor = tf.nn.dropout(x_tensor, keep_prob)\n",
    "    \n",
    "    #x_tensor = fully_conn(x_tensor, num_outputs_fully)\n",
    "    print (num_outputs_fully)\n",
    "    #x_tensor = tf.nn.relu(x_tensor)\n",
    "    #x_tensor = tf.nn.dropout(x_tensor, keep_prob)\n",
    "    \n",
    "    # TODO: Apply an Output Layer\n",
    "    #    Set this to the number of classes\n",
    "    # Function Definition from Above:\n",
    "    # output(x_tensor, num_outputs)\n",
    "    \n",
    "    x = output(x_tensor, num_outputs)\n",
    "    # TODO: return output\n",
    "    return x\n",
    "\n",
    "\n",
    "\"\"\"\n",
    "DON'T MODIFY ANYTHING IN THIS CELL THAT IS BELOW THIS LINE\n",
    "\"\"\"\n",
    "\n",
    "##############################\n",
    "## Build the Neural Network ##\n",
    "##############################\n",
    "\n",
    "# Remove previous weights, bias, inputs, etc..\n",
    "tf.reset_default_graph()\n",
    "\n",
    "# Inputs\n",
    "x = neural_net_image_input((32, 32, 3))\n",
    "y = neural_net_label_input(10)\n",
    "keep_prob = neural_net_keep_prob_input()\n",
    "\n",
    "# Model\n",
    "logits = conv_net(x, keep_prob)\n",
    "\n",
    "# Name logits Tensor, so that is can be loaded from disk after training\n",
    "logits = tf.identity(logits, name='logits')\n",
    "\n",
    "# Loss and Optimizer\n",
    "cost = tf.reduce_mean(tf.nn.softmax_cross_entropy_with_logits(logits=logits, labels=y))\n",
    "optimizer = tf.train.AdamOptimizer().minimize(cost)\n",
    "\n",
    "# Accuracy\n",
    "correct_pred = tf.equal(tf.argmax(logits, 1), tf.argmax(y, 1))\n",
    "accuracy = tf.reduce_mean(tf.cast(correct_pred, tf.float32), name='accuracy')\n",
    "\n",
    "tests.test_conv_net(conv_net)"
   ]
  },
  {
   "cell_type": "markdown",
   "metadata": {
    "deletable": true,
    "editable": true
   },
   "source": [
    "# Train the Neural Network\n",
    "### Single Optimization\n",
    "Implement the function `train_neural_network` to do a single optimization.  The optimization should use `optimizer` to optimize in `session` with a `feed_dict` of the following:\n",
    "* `x` for image input\n",
    "* `y` for labels\n",
    "* `keep_prob` for keep probability for dropout\n",
    "\n",
    "This function will be called for each batch, so `tf.global_variables_initializer()` has already been called.\n",
    "\n",
    "Note: Nothing needs to be returned. This function is only optimizing the neural network."
   ]
  },
  {
   "cell_type": "code",
   "execution_count": 20,
   "metadata": {
    "collapsed": false,
    "deletable": true,
    "editable": true
   },
   "outputs": [
    {
     "name": "stdout",
     "output_type": "stream",
     "text": [
      "Tests Passed\n"
     ]
    }
   ],
   "source": [
    "def train_neural_network(session, optimizer, keep_probability, feature_batch, label_batch):\n",
    "    \"\"\"\n",
    "    Optimize the session on a batch of images and labels\n",
    "    : session: Current TensorFlow session\n",
    "    : optimizer: TensorFlow optimizer function\n",
    "    : keep_probability: keep probability\n",
    "    : feature_batch: Batch of Numpy image data\n",
    "    : label_batch: Batch of Numpy label data\n",
    "    \"\"\"\n",
    "    # TODO: Implement Function\n",
    "    session.run(optimizer, feed_dict={x:feature_batch, y:label_batch, keep_prob:keep_probability})\n",
    "    pass\n",
    "\n",
    "\n",
    "\"\"\"\n",
    "DON'T MODIFY ANYTHING IN THIS CELL THAT IS BELOW THIS LINE\n",
    "\"\"\"\n",
    "tests.test_train_nn(train_neural_network)"
   ]
  },
  {
   "cell_type": "markdown",
   "metadata": {
    "deletable": true,
    "editable": true
   },
   "source": [
    "### Show Stats\n",
    "Implement the function `print_stats` to print loss and validation accuracy.  Use the global variables `valid_features` and `valid_labels` to calculate validation accuracy.  Use a keep probability of `1.0` to calculate the loss and validation accuracy."
   ]
  },
  {
   "cell_type": "code",
   "execution_count": 21,
   "metadata": {
    "collapsed": true,
    "deletable": true,
    "editable": true
   },
   "outputs": [],
   "source": [
    "def print_stats(session, feature_batch, label_batch, cost, accuracy):\n",
    "    \"\"\"\n",
    "    Print information about loss and validation accuracy\n",
    "    : session: Current TensorFlow session\n",
    "    : feature_batch: Batch of Numpy image data\n",
    "    : label_batch: Batch of Numpy label data\n",
    "    : cost: TensorFlow cost function\n",
    "    : accuracy: TensorFlow accuracy function\n",
    "    \"\"\"\n",
    "    # TODO: Implement Function\n",
    "    loss = session.run(cost, feed_dict={ x: feature_batch,y: label_batch,keep_prob: 1.0})\n",
    "    valid_acc = session.run(accuracy, feed_dict={x: valid_features,y: valid_labels,keep_prob: 1.0})\n",
    "    print('Loss: {:>10.4f} Validation Accuracy: {:.6f}'.format(loss,valid_acc))\n",
    "    pass"
   ]
  },
  {
   "cell_type": "markdown",
   "metadata": {
    "deletable": true,
    "editable": true
   },
   "source": [
    "### Hyperparameters\n",
    "Tune the following parameters:\n",
    "* Set `epochs` to the number of iterations until the network stops learning or start overfitting\n",
    "* Set `batch_size` to the highest number that your machine has memory for.  Most people set them to common sizes of memory:\n",
    " * 64\n",
    " * 128\n",
    " * 256\n",
    " * ...\n",
    "* Set `keep_probability` to the probability of keeping a node using dropout"
   ]
  },
  {
   "cell_type": "code",
   "execution_count": 29,
   "metadata": {
    "collapsed": true,
    "deletable": true,
    "editable": true
   },
   "outputs": [],
   "source": [
    "# TODO: Tune Parameters\n",
    "epochs = 60\n",
    "batch_size = 1024\n",
    "keep_probability = 0.8"
   ]
  },
  {
   "cell_type": "markdown",
   "metadata": {
    "deletable": true,
    "editable": true
   },
   "source": [
    "### Train on a Single CIFAR-10 Batch\n",
    "Instead of training the neural network on all the CIFAR-10 batches of data, let's use a single batch. This should save time while you iterate on the model to get a better accuracy.  Once the final validation accuracy is 50% or greater, run the model on all the data in the next section."
   ]
  },
  {
   "cell_type": "code",
   "execution_count": 30,
   "metadata": {
    "collapsed": false,
    "deletable": true,
    "editable": true
   },
   "outputs": [
    {
     "name": "stdout",
     "output_type": "stream",
     "text": [
      "Checking the Training on a Single Batch...\n",
      "Epoch  1, CIFAR-10 Batch 1:  Loss:     2.2222 Validation Accuracy: 0.194600\n",
      "Epoch  2, CIFAR-10 Batch 1:  Loss:     2.0724 Validation Accuracy: 0.243000\n",
      "Epoch  3, CIFAR-10 Batch 1:  Loss:     1.9575 Validation Accuracy: 0.298600\n",
      "Epoch  4, CIFAR-10 Batch 1:  Loss:     1.8913 Validation Accuracy: 0.324600\n",
      "Epoch  5, CIFAR-10 Batch 1:  Loss:     1.8008 Validation Accuracy: 0.340200\n",
      "Epoch  6, CIFAR-10 Batch 1:  Loss:     1.7373 Validation Accuracy: 0.378400\n",
      "Epoch  7, CIFAR-10 Batch 1:  Loss:     1.6913 Validation Accuracy: 0.381800\n",
      "Epoch  8, CIFAR-10 Batch 1:  Loss:     1.6438 Validation Accuracy: 0.403000\n",
      "Epoch  9, CIFAR-10 Batch 1:  Loss:     1.6078 Validation Accuracy: 0.414400\n",
      "Epoch 10, CIFAR-10 Batch 1:  Loss:     1.5740 Validation Accuracy: 0.427800\n",
      "Epoch 11, CIFAR-10 Batch 1:  Loss:     1.5381 Validation Accuracy: 0.440000\n",
      "Epoch 12, CIFAR-10 Batch 1:  Loss:     1.5088 Validation Accuracy: 0.450800\n",
      "Epoch 13, CIFAR-10 Batch 1:  Loss:     1.4831 Validation Accuracy: 0.452800\n",
      "Epoch 14, CIFAR-10 Batch 1:  Loss:     1.4545 Validation Accuracy: 0.462200\n",
      "Epoch 15, CIFAR-10 Batch 1:  Loss:     1.4343 Validation Accuracy: 0.465400\n",
      "Epoch 16, CIFAR-10 Batch 1:  Loss:     1.4181 Validation Accuracy: 0.468600\n",
      "Epoch 17, CIFAR-10 Batch 1:  Loss:     1.4076 Validation Accuracy: 0.476800\n",
      "Epoch 18, CIFAR-10 Batch 1:  Loss:     1.3932 Validation Accuracy: 0.481000\n",
      "Epoch 19, CIFAR-10 Batch 1:  Loss:     1.3632 Validation Accuracy: 0.490000\n",
      "Epoch 20, CIFAR-10 Batch 1:  Loss:     1.3361 Validation Accuracy: 0.492400\n",
      "Epoch 21, CIFAR-10 Batch 1:  Loss:     1.3312 Validation Accuracy: 0.495800\n",
      "Epoch 22, CIFAR-10 Batch 1:  Loss:     1.3143 Validation Accuracy: 0.496400\n",
      "Epoch 23, CIFAR-10 Batch 1:  Loss:     1.2974 Validation Accuracy: 0.502600\n",
      "Epoch 24, CIFAR-10 Batch 1:  Loss:     1.2697 Validation Accuracy: 0.512600\n",
      "Epoch 25, CIFAR-10 Batch 1:  Loss:     1.2546 Validation Accuracy: 0.514600\n",
      "Epoch 26, CIFAR-10 Batch 1:  Loss:     1.2390 Validation Accuracy: 0.515600\n",
      "Epoch 27, CIFAR-10 Batch 1:  Loss:     1.2351 Validation Accuracy: 0.516800\n",
      "Epoch 28, CIFAR-10 Batch 1:  Loss:     1.2208 Validation Accuracy: 0.511800\n",
      "Epoch 29, CIFAR-10 Batch 1:  Loss:     1.1993 Validation Accuracy: 0.526200\n",
      "Epoch 30, CIFAR-10 Batch 1:  Loss:     1.1807 Validation Accuracy: 0.526800\n",
      "Epoch 31, CIFAR-10 Batch 1:  Loss:     1.1677 Validation Accuracy: 0.532000\n",
      "Epoch 32, CIFAR-10 Batch 1:  Loss:     1.1586 Validation Accuracy: 0.539400\n",
      "Epoch 33, CIFAR-10 Batch 1:  Loss:     1.1411 Validation Accuracy: 0.539400\n",
      "Epoch 34, CIFAR-10 Batch 1:  Loss:     1.1263 Validation Accuracy: 0.540200\n",
      "Epoch 35, CIFAR-10 Batch 1:  Loss:     1.1098 Validation Accuracy: 0.538400\n",
      "Epoch 36, CIFAR-10 Batch 1:  Loss:     1.1025 Validation Accuracy: 0.545800\n",
      "Epoch 37, CIFAR-10 Batch 1:  Loss:     1.1041 Validation Accuracy: 0.540000\n",
      "Epoch 38, CIFAR-10 Batch 1:  Loss:     1.0846 Validation Accuracy: 0.543200\n",
      "Epoch 39, CIFAR-10 Batch 1:  Loss:     1.0731 Validation Accuracy: 0.548800\n",
      "Epoch 40, CIFAR-10 Batch 1:  Loss:     1.0669 Validation Accuracy: 0.548200\n",
      "Epoch 41, CIFAR-10 Batch 1:  Loss:     1.0420 Validation Accuracy: 0.549000\n",
      "Epoch 42, CIFAR-10 Batch 1:  Loss:     1.0299 Validation Accuracy: 0.554800\n",
      "Epoch 43, CIFAR-10 Batch 1:  Loss:     1.0089 Validation Accuracy: 0.555600\n",
      "Epoch 44, CIFAR-10 Batch 1:  Loss:     1.0116 Validation Accuracy: 0.556400\n",
      "Epoch 45, CIFAR-10 Batch 1:  Loss:     0.9872 Validation Accuracy: 0.560400\n",
      "Epoch 46, CIFAR-10 Batch 1:  Loss:     0.9763 Validation Accuracy: 0.569800\n",
      "Epoch 47, CIFAR-10 Batch 1:  Loss:     0.9665 Validation Accuracy: 0.566000\n",
      "Epoch 48, CIFAR-10 Batch 1:  Loss:     0.9600 Validation Accuracy: 0.564600\n",
      "Epoch 49, CIFAR-10 Batch 1:  Loss:     0.9523 Validation Accuracy: 0.567600\n",
      "Epoch 50, CIFAR-10 Batch 1:  Loss:     0.9386 Validation Accuracy: 0.572400\n",
      "Epoch 51, CIFAR-10 Batch 1:  Loss:     0.9130 Validation Accuracy: 0.571600\n",
      "Epoch 52, CIFAR-10 Batch 1:  Loss:     0.9228 Validation Accuracy: 0.574400\n",
      "Epoch 53, CIFAR-10 Batch 1:  Loss:     0.8982 Validation Accuracy: 0.571400\n",
      "Epoch 54, CIFAR-10 Batch 1:  Loss:     0.9006 Validation Accuracy: 0.566000\n",
      "Epoch 55, CIFAR-10 Batch 1:  Loss:     0.8819 Validation Accuracy: 0.579600\n",
      "Epoch 56, CIFAR-10 Batch 1:  Loss:     0.8733 Validation Accuracy: 0.582800\n",
      "Epoch 57, CIFAR-10 Batch 1:  Loss:     0.8580 Validation Accuracy: 0.577200\n",
      "Epoch 58, CIFAR-10 Batch 1:  Loss:     0.8501 Validation Accuracy: 0.581000\n",
      "Epoch 59, CIFAR-10 Batch 1:  Loss:     0.8457 Validation Accuracy: 0.586400\n",
      "Epoch 60, CIFAR-10 Batch 1:  Loss:     0.8300 Validation Accuracy: 0.584800\n"
     ]
    }
   ],
   "source": [
    "\"\"\"\n",
    "DON'T MODIFY ANYTHING IN THIS CELL\n",
    "\"\"\"\n",
    "print('Checking the Training on a Single Batch...')\n",
    "with tf.Session() as sess:\n",
    "    # Initializing the variables\n",
    "    sess.run(tf.global_variables_initializer())\n",
    "    \n",
    "    # Training cycle\n",
    "    for epoch in range(epochs):\n",
    "        batch_i = 1\n",
    "        for batch_features, batch_labels in helper.load_preprocess_training_batch(batch_i, batch_size):\n",
    "            train_neural_network(sess, optimizer, keep_probability, batch_features, batch_labels)\n",
    "        print('Epoch {:>2}, CIFAR-10 Batch {}:  '.format(epoch + 1, batch_i), end='')\n",
    "        print_stats(sess, batch_features, batch_labels, cost, accuracy)"
   ]
  },
  {
   "cell_type": "markdown",
   "metadata": {
    "deletable": true,
    "editable": true
   },
   "source": [
    "### Fully Train the Model\n",
    "Now that you got a good accuracy with a single CIFAR-10 batch, try it with all five batches."
   ]
  },
  {
   "cell_type": "code",
   "execution_count": 31,
   "metadata": {
    "collapsed": false,
    "deletable": true,
    "editable": true
   },
   "outputs": [
    {
     "name": "stdout",
     "output_type": "stream",
     "text": [
      "Training...\n",
      "Epoch  1, CIFAR-10 Batch 1:  Loss:     2.2306 Validation Accuracy: 0.154000\n",
      "Epoch  1, CIFAR-10 Batch 2:  Loss:     2.0667 Validation Accuracy: 0.263800\n",
      "Epoch  1, CIFAR-10 Batch 3:  Loss:     1.9685 Validation Accuracy: 0.277000\n",
      "Epoch  1, CIFAR-10 Batch 4:  Loss:     1.9074 Validation Accuracy: 0.297200\n",
      "Epoch  1, CIFAR-10 Batch 5:  Loss:     1.8652 Validation Accuracy: 0.312800\n",
      "Epoch  2, CIFAR-10 Batch 1:  Loss:     1.8231 Validation Accuracy: 0.330400\n",
      "Epoch  2, CIFAR-10 Batch 2:  Loss:     1.7818 Validation Accuracy: 0.369800\n",
      "Epoch  2, CIFAR-10 Batch 3:  Loss:     1.6953 Validation Accuracy: 0.380200\n",
      "Epoch  2, CIFAR-10 Batch 4:  Loss:     1.6677 Validation Accuracy: 0.381000\n",
      "Epoch  2, CIFAR-10 Batch 5:  Loss:     1.6785 Validation Accuracy: 0.402600\n",
      "Epoch  3, CIFAR-10 Batch 1:  Loss:     1.6348 Validation Accuracy: 0.405400\n",
      "Epoch  3, CIFAR-10 Batch 2:  Loss:     1.6265 Validation Accuracy: 0.426000\n",
      "Epoch  3, CIFAR-10 Batch 3:  Loss:     1.5391 Validation Accuracy: 0.438200\n",
      "Epoch  3, CIFAR-10 Batch 4:  Loss:     1.5297 Validation Accuracy: 0.439400\n",
      "Epoch  3, CIFAR-10 Batch 5:  Loss:     1.5696 Validation Accuracy: 0.442600\n",
      "Epoch  4, CIFAR-10 Batch 1:  Loss:     1.5101 Validation Accuracy: 0.457000\n",
      "Epoch  4, CIFAR-10 Batch 2:  Loss:     1.5142 Validation Accuracy: 0.468200\n",
      "Epoch  4, CIFAR-10 Batch 3:  Loss:     1.4378 Validation Accuracy: 0.467000\n",
      "Epoch  4, CIFAR-10 Batch 4:  Loss:     1.4336 Validation Accuracy: 0.465800\n",
      "Epoch  4, CIFAR-10 Batch 5:  Loss:     1.4722 Validation Accuracy: 0.473600\n",
      "Epoch  5, CIFAR-10 Batch 1:  Loss:     1.4215 Validation Accuracy: 0.481000\n",
      "Epoch  5, CIFAR-10 Batch 2:  Loss:     1.4315 Validation Accuracy: 0.492600\n",
      "Epoch  5, CIFAR-10 Batch 3:  Loss:     1.3543 Validation Accuracy: 0.496600\n",
      "Epoch  5, CIFAR-10 Batch 4:  Loss:     1.3603 Validation Accuracy: 0.498000\n",
      "Epoch  5, CIFAR-10 Batch 5:  Loss:     1.3984 Validation Accuracy: 0.496600\n",
      "Epoch  6, CIFAR-10 Batch 1:  Loss:     1.3601 Validation Accuracy: 0.505600\n",
      "Epoch  6, CIFAR-10 Batch 2:  Loss:     1.3645 Validation Accuracy: 0.510800\n",
      "Epoch  6, CIFAR-10 Batch 3:  Loss:     1.2898 Validation Accuracy: 0.517400\n",
      "Epoch  6, CIFAR-10 Batch 4:  Loss:     1.3109 Validation Accuracy: 0.509800\n",
      "Epoch  6, CIFAR-10 Batch 5:  Loss:     1.3372 Validation Accuracy: 0.516400\n",
      "Epoch  7, CIFAR-10 Batch 1:  Loss:     1.3216 Validation Accuracy: 0.517400\n",
      "Epoch  7, CIFAR-10 Batch 2:  Loss:     1.3229 Validation Accuracy: 0.526200\n",
      "Epoch  7, CIFAR-10 Batch 3:  Loss:     1.2595 Validation Accuracy: 0.528800\n",
      "Epoch  7, CIFAR-10 Batch 4:  Loss:     1.2653 Validation Accuracy: 0.532600\n",
      "Epoch  7, CIFAR-10 Batch 5:  Loss:     1.3036 Validation Accuracy: 0.528000\n",
      "Epoch  8, CIFAR-10 Batch 1:  Loss:     1.2783 Validation Accuracy: 0.536800\n",
      "Epoch  8, CIFAR-10 Batch 2:  Loss:     1.2763 Validation Accuracy: 0.543400\n",
      "Epoch  8, CIFAR-10 Batch 3:  Loss:     1.2226 Validation Accuracy: 0.537800\n",
      "Epoch  8, CIFAR-10 Batch 4:  Loss:     1.2292 Validation Accuracy: 0.539200\n",
      "Epoch  8, CIFAR-10 Batch 5:  Loss:     1.2602 Validation Accuracy: 0.546400\n",
      "Epoch  9, CIFAR-10 Batch 1:  Loss:     1.2529 Validation Accuracy: 0.542200\n",
      "Epoch  9, CIFAR-10 Batch 2:  Loss:     1.2621 Validation Accuracy: 0.546600\n",
      "Epoch  9, CIFAR-10 Batch 3:  Loss:     1.1895 Validation Accuracy: 0.553200\n",
      "Epoch  9, CIFAR-10 Batch 4:  Loss:     1.2120 Validation Accuracy: 0.548600\n",
      "Epoch  9, CIFAR-10 Batch 5:  Loss:     1.2272 Validation Accuracy: 0.556600\n",
      "Epoch 10, CIFAR-10 Batch 1:  Loss:     1.2497 Validation Accuracy: 0.541600\n",
      "Epoch 10, CIFAR-10 Batch 2:  Loss:     1.2219 Validation Accuracy: 0.564600\n",
      "Epoch 10, CIFAR-10 Batch 3:  Loss:     1.1703 Validation Accuracy: 0.559400\n",
      "Epoch 10, CIFAR-10 Batch 4:  Loss:     1.1785 Validation Accuracy: 0.552600\n",
      "Epoch 10, CIFAR-10 Batch 5:  Loss:     1.1788 Validation Accuracy: 0.568800\n",
      "Epoch 11, CIFAR-10 Batch 1:  Loss:     1.2014 Validation Accuracy: 0.559400\n",
      "Epoch 11, CIFAR-10 Batch 2:  Loss:     1.1846 Validation Accuracy: 0.572000\n",
      "Epoch 11, CIFAR-10 Batch 3:  Loss:     1.1398 Validation Accuracy: 0.570600\n",
      "Epoch 11, CIFAR-10 Batch 4:  Loss:     1.1495 Validation Accuracy: 0.563400\n",
      "Epoch 11, CIFAR-10 Batch 5:  Loss:     1.1605 Validation Accuracy: 0.574800\n",
      "Epoch 12, CIFAR-10 Batch 1:  Loss:     1.1796 Validation Accuracy: 0.567400\n",
      "Epoch 12, CIFAR-10 Batch 2:  Loss:     1.1624 Validation Accuracy: 0.579400\n",
      "Epoch 12, CIFAR-10 Batch 3:  Loss:     1.1187 Validation Accuracy: 0.575600\n",
      "Epoch 12, CIFAR-10 Batch 4:  Loss:     1.1191 Validation Accuracy: 0.569000\n",
      "Epoch 12, CIFAR-10 Batch 5:  Loss:     1.1409 Validation Accuracy: 0.582200\n",
      "Epoch 13, CIFAR-10 Batch 1:  Loss:     1.1730 Validation Accuracy: 0.563400\n",
      "Epoch 13, CIFAR-10 Batch 2:  Loss:     1.1304 Validation Accuracy: 0.581800\n",
      "Epoch 13, CIFAR-10 Batch 3:  Loss:     1.0912 Validation Accuracy: 0.581800\n",
      "Epoch 13, CIFAR-10 Batch 4:  Loss:     1.0946 Validation Accuracy: 0.585600\n",
      "Epoch 13, CIFAR-10 Batch 5:  Loss:     1.1133 Validation Accuracy: 0.585400\n",
      "Epoch 14, CIFAR-10 Batch 1:  Loss:     1.1420 Validation Accuracy: 0.585000\n",
      "Epoch 14, CIFAR-10 Batch 2:  Loss:     1.1050 Validation Accuracy: 0.585800\n",
      "Epoch 14, CIFAR-10 Batch 3:  Loss:     1.0665 Validation Accuracy: 0.588200\n",
      "Epoch 14, CIFAR-10 Batch 4:  Loss:     1.0671 Validation Accuracy: 0.591200\n",
      "Epoch 14, CIFAR-10 Batch 5:  Loss:     1.0921 Validation Accuracy: 0.590600\n",
      "Epoch 15, CIFAR-10 Batch 1:  Loss:     1.1169 Validation Accuracy: 0.594000\n",
      "Epoch 15, CIFAR-10 Batch 2:  Loss:     1.0895 Validation Accuracy: 0.595800\n",
      "Epoch 15, CIFAR-10 Batch 3:  Loss:     1.0492 Validation Accuracy: 0.595600\n",
      "Epoch 15, CIFAR-10 Batch 4:  Loss:     1.0541 Validation Accuracy: 0.592200\n",
      "Epoch 15, CIFAR-10 Batch 5:  Loss:     1.0632 Validation Accuracy: 0.596000\n",
      "Epoch 16, CIFAR-10 Batch 1:  Loss:     1.1001 Validation Accuracy: 0.602400\n",
      "Epoch 16, CIFAR-10 Batch 2:  Loss:     1.0987 Validation Accuracy: 0.591200\n",
      "Epoch 16, CIFAR-10 Batch 3:  Loss:     1.0262 Validation Accuracy: 0.600600\n",
      "Epoch 16, CIFAR-10 Batch 4:  Loss:     1.0303 Validation Accuracy: 0.599600\n",
      "Epoch 16, CIFAR-10 Batch 5:  Loss:     1.0510 Validation Accuracy: 0.599800\n",
      "Epoch 17, CIFAR-10 Batch 1:  Loss:     1.0790 Validation Accuracy: 0.608600\n",
      "Epoch 17, CIFAR-10 Batch 2:  Loss:     1.0517 Validation Accuracy: 0.602800\n",
      "Epoch 17, CIFAR-10 Batch 3:  Loss:     1.0107 Validation Accuracy: 0.603400\n",
      "Epoch 17, CIFAR-10 Batch 4:  Loss:     1.0013 Validation Accuracy: 0.608600\n",
      "Epoch 17, CIFAR-10 Batch 5:  Loss:     1.0327 Validation Accuracy: 0.615000\n",
      "Epoch 18, CIFAR-10 Batch 1:  Loss:     1.0621 Validation Accuracy: 0.612400\n",
      "Epoch 18, CIFAR-10 Batch 2:  Loss:     1.0455 Validation Accuracy: 0.609200\n",
      "Epoch 18, CIFAR-10 Batch 3:  Loss:     1.0064 Validation Accuracy: 0.607600\n",
      "Epoch 18, CIFAR-10 Batch 4:  Loss:     0.9849 Validation Accuracy: 0.611600\n",
      "Epoch 18, CIFAR-10 Batch 5:  Loss:     1.0057 Validation Accuracy: 0.612400\n",
      "Epoch 19, CIFAR-10 Batch 1:  Loss:     1.0556 Validation Accuracy: 0.611600\n",
      "Epoch 19, CIFAR-10 Batch 2:  Loss:     1.0136 Validation Accuracy: 0.613600\n",
      "Epoch 19, CIFAR-10 Batch 3:  Loss:     0.9916 Validation Accuracy: 0.611800\n",
      "Epoch 19, CIFAR-10 Batch 4:  Loss:     0.9792 Validation Accuracy: 0.613800\n",
      "Epoch 19, CIFAR-10 Batch 5:  Loss:     1.0010 Validation Accuracy: 0.616600\n",
      "Epoch 20, CIFAR-10 Batch 1:  Loss:     1.0307 Validation Accuracy: 0.626000\n",
      "Epoch 20, CIFAR-10 Batch 2:  Loss:     1.0099 Validation Accuracy: 0.609400\n",
      "Epoch 20, CIFAR-10 Batch 3:  Loss:     0.9666 Validation Accuracy: 0.620800\n",
      "Epoch 20, CIFAR-10 Batch 4:  Loss:     0.9678 Validation Accuracy: 0.616400\n",
      "Epoch 20, CIFAR-10 Batch 5:  Loss:     0.9836 Validation Accuracy: 0.617400\n",
      "Epoch 21, CIFAR-10 Batch 1:  Loss:     1.0251 Validation Accuracy: 0.621400\n",
      "Epoch 21, CIFAR-10 Batch 2:  Loss:     0.9999 Validation Accuracy: 0.618000\n",
      "Epoch 21, CIFAR-10 Batch 3:  Loss:     0.9511 Validation Accuracy: 0.621800\n",
      "Epoch 21, CIFAR-10 Batch 4:  Loss:     0.9597 Validation Accuracy: 0.616600\n",
      "Epoch 21, CIFAR-10 Batch 5:  Loss:     0.9637 Validation Accuracy: 0.625400\n",
      "Epoch 22, CIFAR-10 Batch 1:  Loss:     1.0114 Validation Accuracy: 0.631400\n",
      "Epoch 22, CIFAR-10 Batch 2:  Loss:     0.9729 Validation Accuracy: 0.627400\n",
      "Epoch 22, CIFAR-10 Batch 3:  Loss:     0.9544 Validation Accuracy: 0.617800\n",
      "Epoch 22, CIFAR-10 Batch 4:  Loss:     0.9420 Validation Accuracy: 0.620200\n",
      "Epoch 22, CIFAR-10 Batch 5:  Loss:     0.9881 Validation Accuracy: 0.606200\n",
      "Epoch 23, CIFAR-10 Batch 1:  Loss:     1.0030 Validation Accuracy: 0.628600\n",
      "Epoch 23, CIFAR-10 Batch 2:  Loss:     0.9825 Validation Accuracy: 0.631600\n",
      "Epoch 23, CIFAR-10 Batch 3:  Loss:     0.9268 Validation Accuracy: 0.624000\n",
      "Epoch 23, CIFAR-10 Batch 4:  Loss:     0.9436 Validation Accuracy: 0.622200\n",
      "Epoch 23, CIFAR-10 Batch 5:  Loss:     0.9706 Validation Accuracy: 0.617400\n",
      "Epoch 24, CIFAR-10 Batch 1:  Loss:     0.9967 Validation Accuracy: 0.624000\n",
      "Epoch 24, CIFAR-10 Batch 2:  Loss:     0.9700 Validation Accuracy: 0.631000\n",
      "Epoch 24, CIFAR-10 Batch 3:  Loss:     0.9227 Validation Accuracy: 0.625400\n",
      "Epoch 24, CIFAR-10 Batch 4:  Loss:     0.9223 Validation Accuracy: 0.627200\n",
      "Epoch 24, CIFAR-10 Batch 5:  Loss:     0.9428 Validation Accuracy: 0.623800\n",
      "Epoch 25, CIFAR-10 Batch 1:  Loss:     0.9756 Validation Accuracy: 0.635000\n",
      "Epoch 25, CIFAR-10 Batch 2:  Loss:     0.9513 Validation Accuracy: 0.636800\n",
      "Epoch 25, CIFAR-10 Batch 3:  Loss:     0.8928 Validation Accuracy: 0.632800\n",
      "Epoch 25, CIFAR-10 Batch 4:  Loss:     0.9223 Validation Accuracy: 0.628000\n",
      "Epoch 25, CIFAR-10 Batch 5:  Loss:     0.9347 Validation Accuracy: 0.625800\n",
      "Epoch 26, CIFAR-10 Batch 1:  Loss:     0.9627 Validation Accuracy: 0.637800\n",
      "Epoch 26, CIFAR-10 Batch 2:  Loss:     0.9258 Validation Accuracy: 0.634600\n",
      "Epoch 26, CIFAR-10 Batch 3:  Loss:     0.8957 Validation Accuracy: 0.631800\n",
      "Epoch 26, CIFAR-10 Batch 4:  Loss:     0.9043 Validation Accuracy: 0.630600\n",
      "Epoch 26, CIFAR-10 Batch 5:  Loss:     0.9102 Validation Accuracy: 0.627800\n",
      "Epoch 27, CIFAR-10 Batch 1:  Loss:     0.9426 Validation Accuracy: 0.641800\n",
      "Epoch 27, CIFAR-10 Batch 2:  Loss:     0.9156 Validation Accuracy: 0.641800\n",
      "Epoch 27, CIFAR-10 Batch 3:  Loss:     0.8969 Validation Accuracy: 0.632600\n",
      "Epoch 27, CIFAR-10 Batch 4:  Loss:     0.8958 Validation Accuracy: 0.632400\n",
      "Epoch 27, CIFAR-10 Batch 5:  Loss:     0.8774 Validation Accuracy: 0.639000\n",
      "Epoch 28, CIFAR-10 Batch 1:  Loss:     0.9408 Validation Accuracy: 0.637800\n",
      "Epoch 28, CIFAR-10 Batch 2:  Loss:     0.9104 Validation Accuracy: 0.636000\n",
      "Epoch 28, CIFAR-10 Batch 3:  Loss:     0.8718 Validation Accuracy: 0.642800\n",
      "Epoch 28, CIFAR-10 Batch 4:  Loss:     0.8779 Validation Accuracy: 0.639200\n",
      "Epoch 28, CIFAR-10 Batch 5:  Loss:     0.8897 Validation Accuracy: 0.633200\n",
      "Epoch 29, CIFAR-10 Batch 1:  Loss:     0.9359 Validation Accuracy: 0.639600\n",
      "Epoch 29, CIFAR-10 Batch 2:  Loss:     0.8898 Validation Accuracy: 0.639800\n",
      "Epoch 29, CIFAR-10 Batch 3:  Loss:     0.8676 Validation Accuracy: 0.637600\n",
      "Epoch 29, CIFAR-10 Batch 4:  Loss:     0.8755 Validation Accuracy: 0.636600\n",
      "Epoch 29, CIFAR-10 Batch 5:  Loss:     0.8860 Validation Accuracy: 0.634000\n",
      "Epoch 30, CIFAR-10 Batch 1:  Loss:     0.9214 Validation Accuracy: 0.643400\n",
      "Epoch 30, CIFAR-10 Batch 2:  Loss:     0.8853 Validation Accuracy: 0.643400\n",
      "Epoch 30, CIFAR-10 Batch 3:  Loss:     0.8711 Validation Accuracy: 0.640000\n",
      "Epoch 30, CIFAR-10 Batch 4:  Loss:     0.8732 Validation Accuracy: 0.637800\n",
      "Epoch 30, CIFAR-10 Batch 5:  Loss:     0.8712 Validation Accuracy: 0.641400\n",
      "Epoch 31, CIFAR-10 Batch 1:  Loss:     0.9199 Validation Accuracy: 0.643000\n",
      "Epoch 31, CIFAR-10 Batch 2:  Loss:     0.8811 Validation Accuracy: 0.641800\n",
      "Epoch 31, CIFAR-10 Batch 3:  Loss:     0.8509 Validation Accuracy: 0.639400\n",
      "Epoch 31, CIFAR-10 Batch 4:  Loss:     0.8575 Validation Accuracy: 0.640400\n",
      "Epoch 31, CIFAR-10 Batch 5:  Loss:     0.8720 Validation Accuracy: 0.638800\n",
      "Epoch 32, CIFAR-10 Batch 1:  Loss:     0.9090 Validation Accuracy: 0.643800\n",
      "Epoch 32, CIFAR-10 Batch 2:  Loss:     0.8655 Validation Accuracy: 0.648600\n",
      "Epoch 32, CIFAR-10 Batch 3:  Loss:     0.8384 Validation Accuracy: 0.645800\n",
      "Epoch 32, CIFAR-10 Batch 4:  Loss:     0.8644 Validation Accuracy: 0.641000\n",
      "Epoch 32, CIFAR-10 Batch 5:  Loss:     0.8319 Validation Accuracy: 0.646600\n",
      "Epoch 33, CIFAR-10 Batch 1:  Loss:     0.8919 Validation Accuracy: 0.650000\n",
      "Epoch 33, CIFAR-10 Batch 2:  Loss:     0.8516 Validation Accuracy: 0.646800\n",
      "Epoch 33, CIFAR-10 Batch 3:  Loss:     0.8283 Validation Accuracy: 0.648000\n",
      "Epoch 33, CIFAR-10 Batch 4:  Loss:     0.8321 Validation Accuracy: 0.648000\n",
      "Epoch 33, CIFAR-10 Batch 5:  Loss:     0.8474 Validation Accuracy: 0.636800\n",
      "Epoch 34, CIFAR-10 Batch 1:  Loss:     0.8932 Validation Accuracy: 0.643000\n",
      "Epoch 34, CIFAR-10 Batch 2:  Loss:     0.8444 Validation Accuracy: 0.651000\n",
      "Epoch 34, CIFAR-10 Batch 3:  Loss:     0.7987 Validation Accuracy: 0.659000\n",
      "Epoch 34, CIFAR-10 Batch 4:  Loss:     0.8284 Validation Accuracy: 0.647200\n",
      "Epoch 34, CIFAR-10 Batch 5:  Loss:     0.8274 Validation Accuracy: 0.644000\n",
      "Epoch 35, CIFAR-10 Batch 1:  Loss:     0.8746 Validation Accuracy: 0.647600\n",
      "Epoch 35, CIFAR-10 Batch 2:  Loss:     0.8387 Validation Accuracy: 0.650400\n",
      "Epoch 35, CIFAR-10 Batch 3:  Loss:     0.8156 Validation Accuracy: 0.646400\n",
      "Epoch 35, CIFAR-10 Batch 4:  Loss:     0.8153 Validation Accuracy: 0.648200\n",
      "Epoch 35, CIFAR-10 Batch 5:  Loss:     0.8135 Validation Accuracy: 0.645800\n",
      "Epoch 36, CIFAR-10 Batch 1:  Loss:     0.8716 Validation Accuracy: 0.643400\n",
      "Epoch 36, CIFAR-10 Batch 2:  Loss:     0.8307 Validation Accuracy: 0.653000\n",
      "Epoch 36, CIFAR-10 Batch 3:  Loss:     0.8158 Validation Accuracy: 0.641600\n",
      "Epoch 36, CIFAR-10 Batch 4:  Loss:     0.8160 Validation Accuracy: 0.643400\n",
      "Epoch 36, CIFAR-10 Batch 5:  Loss:     0.7978 Validation Accuracy: 0.651200\n",
      "Epoch 37, CIFAR-10 Batch 1:  Loss:     0.8580 Validation Accuracy: 0.645400\n",
      "Epoch 37, CIFAR-10 Batch 2:  Loss:     0.8326 Validation Accuracy: 0.652800\n",
      "Epoch 37, CIFAR-10 Batch 3:  Loss:     0.8047 Validation Accuracy: 0.647800\n",
      "Epoch 37, CIFAR-10 Batch 4:  Loss:     0.8188 Validation Accuracy: 0.641800\n",
      "Epoch 37, CIFAR-10 Batch 5:  Loss:     0.7984 Validation Accuracy: 0.650600\n",
      "Epoch 38, CIFAR-10 Batch 1:  Loss:     0.8410 Validation Accuracy: 0.653000\n",
      "Epoch 38, CIFAR-10 Batch 2:  Loss:     0.8123 Validation Accuracy: 0.655000\n",
      "Epoch 38, CIFAR-10 Batch 3:  Loss:     0.8151 Validation Accuracy: 0.643600\n",
      "Epoch 38, CIFAR-10 Batch 4:  Loss:     0.8143 Validation Accuracy: 0.640400\n",
      "Epoch 38, CIFAR-10 Batch 5:  Loss:     0.7984 Validation Accuracy: 0.642600\n",
      "Epoch 39, CIFAR-10 Batch 1:  Loss:     0.8437 Validation Accuracy: 0.650600\n",
      "Epoch 39, CIFAR-10 Batch 2:  Loss:     0.8096 Validation Accuracy: 0.657000\n",
      "Epoch 39, CIFAR-10 Batch 3:  Loss:     0.7950 Validation Accuracy: 0.650400\n",
      "Epoch 39, CIFAR-10 Batch 4:  Loss:     0.8105 Validation Accuracy: 0.644000\n",
      "Epoch 39, CIFAR-10 Batch 5:  Loss:     0.8012 Validation Accuracy: 0.644600\n",
      "Epoch 40, CIFAR-10 Batch 1:  Loss:     0.8325 Validation Accuracy: 0.649800\n",
      "Epoch 40, CIFAR-10 Batch 2:  Loss:     0.8168 Validation Accuracy: 0.654600\n",
      "Epoch 40, CIFAR-10 Batch 3:  Loss:     0.7891 Validation Accuracy: 0.649000\n",
      "Epoch 40, CIFAR-10 Batch 4:  Loss:     0.7912 Validation Accuracy: 0.648800\n",
      "Epoch 40, CIFAR-10 Batch 5:  Loss:     0.7717 Validation Accuracy: 0.645800\n",
      "Epoch 41, CIFAR-10 Batch 1:  Loss:     0.8264 Validation Accuracy: 0.661800\n",
      "Epoch 41, CIFAR-10 Batch 2:  Loss:     0.7918 Validation Accuracy: 0.652800\n",
      "Epoch 41, CIFAR-10 Batch 3:  Loss:     0.7795 Validation Accuracy: 0.655800\n",
      "Epoch 41, CIFAR-10 Batch 4:  Loss:     0.7914 Validation Accuracy: 0.649400\n",
      "Epoch 41, CIFAR-10 Batch 5:  Loss:     0.7614 Validation Accuracy: 0.654600\n",
      "Epoch 42, CIFAR-10 Batch 1:  Loss:     0.8085 Validation Accuracy: 0.655800\n",
      "Epoch 42, CIFAR-10 Batch 2:  Loss:     0.7811 Validation Accuracy: 0.656600\n",
      "Epoch 42, CIFAR-10 Batch 3:  Loss:     0.7588 Validation Accuracy: 0.659800\n",
      "Epoch 42, CIFAR-10 Batch 4:  Loss:     0.7742 Validation Accuracy: 0.655800\n",
      "Epoch 42, CIFAR-10 Batch 5:  Loss:     0.7469 Validation Accuracy: 0.657000\n",
      "Epoch 43, CIFAR-10 Batch 1:  Loss:     0.8011 Validation Accuracy: 0.662400\n",
      "Epoch 43, CIFAR-10 Batch 2:  Loss:     0.7722 Validation Accuracy: 0.662800\n",
      "Epoch 43, CIFAR-10 Batch 3:  Loss:     0.7454 Validation Accuracy: 0.666400\n",
      "Epoch 43, CIFAR-10 Batch 4:  Loss:     0.7579 Validation Accuracy: 0.660000\n",
      "Epoch 43, CIFAR-10 Batch 5:  Loss:     0.7318 Validation Accuracy: 0.661000\n",
      "Epoch 44, CIFAR-10 Batch 1:  Loss:     0.7893 Validation Accuracy: 0.661200\n",
      "Epoch 44, CIFAR-10 Batch 2:  Loss:     0.7730 Validation Accuracy: 0.661600\n",
      "Epoch 44, CIFAR-10 Batch 3:  Loss:     0.7514 Validation Accuracy: 0.661400\n",
      "Epoch 44, CIFAR-10 Batch 4:  Loss:     0.7592 Validation Accuracy: 0.656200\n",
      "Epoch 44, CIFAR-10 Batch 5:  Loss:     0.7355 Validation Accuracy: 0.656800\n",
      "Epoch 45, CIFAR-10 Batch 1:  Loss:     0.7842 Validation Accuracy: 0.665200\n",
      "Epoch 45, CIFAR-10 Batch 2:  Loss:     0.7529 Validation Accuracy: 0.665000\n",
      "Epoch 45, CIFAR-10 Batch 3:  Loss:     0.7313 Validation Accuracy: 0.660200\n",
      "Epoch 45, CIFAR-10 Batch 4:  Loss:     0.7476 Validation Accuracy: 0.653400\n",
      "Epoch 45, CIFAR-10 Batch 5:  Loss:     0.7201 Validation Accuracy: 0.659400\n",
      "Epoch 46, CIFAR-10 Batch 1:  Loss:     0.7953 Validation Accuracy: 0.663400\n",
      "Epoch 46, CIFAR-10 Batch 2:  Loss:     0.7564 Validation Accuracy: 0.666800\n",
      "Epoch 46, CIFAR-10 Batch 3:  Loss:     0.7390 Validation Accuracy: 0.661200\n",
      "Epoch 46, CIFAR-10 Batch 4:  Loss:     0.7568 Validation Accuracy: 0.659600\n",
      "Epoch 46, CIFAR-10 Batch 5:  Loss:     0.7354 Validation Accuracy: 0.658600\n",
      "Epoch 47, CIFAR-10 Batch 1:  Loss:     0.7768 Validation Accuracy: 0.661600\n",
      "Epoch 47, CIFAR-10 Batch 2:  Loss:     0.7584 Validation Accuracy: 0.664200\n",
      "Epoch 47, CIFAR-10 Batch 3:  Loss:     0.7295 Validation Accuracy: 0.664800\n",
      "Epoch 47, CIFAR-10 Batch 4:  Loss:     0.7436 Validation Accuracy: 0.662000\n",
      "Epoch 47, CIFAR-10 Batch 5:  Loss:     0.7285 Validation Accuracy: 0.658200\n",
      "Epoch 48, CIFAR-10 Batch 1:  Loss:     0.7604 Validation Accuracy: 0.663800\n",
      "Epoch 48, CIFAR-10 Batch 2:  Loss:     0.7345 Validation Accuracy: 0.667000\n",
      "Epoch 48, CIFAR-10 Batch 3:  Loss:     0.7400 Validation Accuracy: 0.653800\n",
      "Epoch 48, CIFAR-10 Batch 4:  Loss:     0.7479 Validation Accuracy: 0.653200\n",
      "Epoch 48, CIFAR-10 Batch 5:  Loss:     0.7113 Validation Accuracy: 0.662200\n",
      "Epoch 49, CIFAR-10 Batch 1:  Loss:     0.7584 Validation Accuracy: 0.663400\n",
      "Epoch 49, CIFAR-10 Batch 2:  Loss:     0.7380 Validation Accuracy: 0.666800\n",
      "Epoch 49, CIFAR-10 Batch 3:  Loss:     0.7141 Validation Accuracy: 0.663000\n",
      "Epoch 49, CIFAR-10 Batch 4:  Loss:     0.7422 Validation Accuracy: 0.658400\n",
      "Epoch 49, CIFAR-10 Batch 5:  Loss:     0.7179 Validation Accuracy: 0.652600\n",
      "Epoch 50, CIFAR-10 Batch 1:  Loss:     0.7535 Validation Accuracy: 0.662800\n",
      "Epoch 50, CIFAR-10 Batch 2:  Loss:     0.7253 Validation Accuracy: 0.661600\n",
      "Epoch 50, CIFAR-10 Batch 3:  Loss:     0.7214 Validation Accuracy: 0.659600\n",
      "Epoch 50, CIFAR-10 Batch 4:  Loss:     0.7316 Validation Accuracy: 0.660600\n",
      "Epoch 50, CIFAR-10 Batch 5:  Loss:     0.6943 Validation Accuracy: 0.664000\n",
      "Epoch 51, CIFAR-10 Batch 1:  Loss:     0.7530 Validation Accuracy: 0.665600\n",
      "Epoch 51, CIFAR-10 Batch 2:  Loss:     0.7096 Validation Accuracy: 0.671000\n",
      "Epoch 51, CIFAR-10 Batch 3:  Loss:     0.7001 Validation Accuracy: 0.669200\n",
      "Epoch 51, CIFAR-10 Batch 4:  Loss:     0.7224 Validation Accuracy: 0.663800\n",
      "Epoch 51, CIFAR-10 Batch 5:  Loss:     0.6763 Validation Accuracy: 0.665000\n",
      "Epoch 52, CIFAR-10 Batch 1:  Loss:     0.7501 Validation Accuracy: 0.666200\n",
      "Epoch 52, CIFAR-10 Batch 2:  Loss:     0.7043 Validation Accuracy: 0.673400\n",
      "Epoch 52, CIFAR-10 Batch 3:  Loss:     0.7083 Validation Accuracy: 0.664000\n",
      "Epoch 52, CIFAR-10 Batch 4:  Loss:     0.7093 Validation Accuracy: 0.669400\n",
      "Epoch 52, CIFAR-10 Batch 5:  Loss:     0.6711 Validation Accuracy: 0.670800\n",
      "Epoch 53, CIFAR-10 Batch 1:  Loss:     0.7369 Validation Accuracy: 0.671600\n",
      "Epoch 53, CIFAR-10 Batch 2:  Loss:     0.6965 Validation Accuracy: 0.666600\n",
      "Epoch 53, CIFAR-10 Batch 3:  Loss:     0.6715 Validation Accuracy: 0.669400\n",
      "Epoch 53, CIFAR-10 Batch 4:  Loss:     0.6954 Validation Accuracy: 0.667600\n",
      "Epoch 53, CIFAR-10 Batch 5:  Loss:     0.6651 Validation Accuracy: 0.665800\n",
      "Epoch 54, CIFAR-10 Batch 1:  Loss:     0.7294 Validation Accuracy: 0.670400\n",
      "Epoch 54, CIFAR-10 Batch 2:  Loss:     0.6924 Validation Accuracy: 0.669200\n",
      "Epoch 54, CIFAR-10 Batch 3:  Loss:     0.6743 Validation Accuracy: 0.668000\n",
      "Epoch 54, CIFAR-10 Batch 4:  Loss:     0.6983 Validation Accuracy: 0.665400\n",
      "Epoch 54, CIFAR-10 Batch 5:  Loss:     0.6548 Validation Accuracy: 0.671600\n",
      "Epoch 55, CIFAR-10 Batch 1:  Loss:     0.7205 Validation Accuracy: 0.669800\n",
      "Epoch 55, CIFAR-10 Batch 2:  Loss:     0.6825 Validation Accuracy: 0.670400\n",
      "Epoch 55, CIFAR-10 Batch 3:  Loss:     0.6675 Validation Accuracy: 0.668800\n",
      "Epoch 55, CIFAR-10 Batch 4:  Loss:     0.6817 Validation Accuracy: 0.672600\n",
      "Epoch 55, CIFAR-10 Batch 5:  Loss:     0.6461 Validation Accuracy: 0.670600\n",
      "Epoch 56, CIFAR-10 Batch 1:  Loss:     0.7082 Validation Accuracy: 0.671200\n",
      "Epoch 56, CIFAR-10 Batch 2:  Loss:     0.6702 Validation Accuracy: 0.675000\n",
      "Epoch 56, CIFAR-10 Batch 3:  Loss:     0.6690 Validation Accuracy: 0.666800\n",
      "Epoch 56, CIFAR-10 Batch 4:  Loss:     0.6750 Validation Accuracy: 0.669600\n",
      "Epoch 56, CIFAR-10 Batch 5:  Loss:     0.6396 Validation Accuracy: 0.672800\n",
      "Epoch 57, CIFAR-10 Batch 1:  Loss:     0.6968 Validation Accuracy: 0.671200\n",
      "Epoch 57, CIFAR-10 Batch 2:  Loss:     0.6624 Validation Accuracy: 0.674000\n",
      "Epoch 57, CIFAR-10 Batch 3:  Loss:     0.6357 Validation Accuracy: 0.673200\n",
      "Epoch 57, CIFAR-10 Batch 4:  Loss:     0.6600 Validation Accuracy: 0.672000\n",
      "Epoch 57, CIFAR-10 Batch 5:  Loss:     0.6277 Validation Accuracy: 0.673400\n",
      "Epoch 58, CIFAR-10 Batch 1:  Loss:     0.6972 Validation Accuracy: 0.668200\n",
      "Epoch 58, CIFAR-10 Batch 2:  Loss:     0.6677 Validation Accuracy: 0.676800\n",
      "Epoch 58, CIFAR-10 Batch 3:  Loss:     0.6561 Validation Accuracy: 0.667800\n",
      "Epoch 58, CIFAR-10 Batch 4:  Loss:     0.6849 Validation Accuracy: 0.662200\n",
      "Epoch 58, CIFAR-10 Batch 5:  Loss:     0.6385 Validation Accuracy: 0.669200\n",
      "Epoch 59, CIFAR-10 Batch 1:  Loss:     0.6819 Validation Accuracy: 0.675000\n",
      "Epoch 59, CIFAR-10 Batch 2:  Loss:     0.6593 Validation Accuracy: 0.677000\n",
      "Epoch 59, CIFAR-10 Batch 3:  Loss:     0.6362 Validation Accuracy: 0.674000\n",
      "Epoch 59, CIFAR-10 Batch 4:  Loss:     0.6603 Validation Accuracy: 0.664600\n",
      "Epoch 59, CIFAR-10 Batch 5:  Loss:     0.6220 Validation Accuracy: 0.670800\n",
      "Epoch 60, CIFAR-10 Batch 1:  Loss:     0.6749 Validation Accuracy: 0.675800\n",
      "Epoch 60, CIFAR-10 Batch 2:  Loss:     0.6505 Validation Accuracy: 0.671000\n",
      "Epoch 60, CIFAR-10 Batch 3:  Loss:     0.6204 Validation Accuracy: 0.674800\n",
      "Epoch 60, CIFAR-10 Batch 4:  Loss:     0.6435 Validation Accuracy: 0.673600\n",
      "Epoch 60, CIFAR-10 Batch 5:  Loss:     0.6142 Validation Accuracy: 0.671200\n"
     ]
    }
   ],
   "source": [
    "\"\"\"\n",
    "DON'T MODIFY ANYTHING IN THIS CELL\n",
    "\"\"\"\n",
    "save_model_path = './image_classification'\n",
    "\n",
    "print('Training...')\n",
    "with tf.Session() as sess:\n",
    "    # Initializing the variables\n",
    "    sess.run(tf.global_variables_initializer())\n",
    "    \n",
    "    # Training cycle\n",
    "    for epoch in range(epochs):\n",
    "        # Loop over all batches\n",
    "        n_batches = 5\n",
    "        for batch_i in range(1, n_batches + 1):\n",
    "            for batch_features, batch_labels in helper.load_preprocess_training_batch(batch_i, batch_size):\n",
    "                train_neural_network(sess, optimizer, keep_probability, batch_features, batch_labels)\n",
    "            print('Epoch {:>2}, CIFAR-10 Batch {}:  '.format(epoch + 1, batch_i), end='')\n",
    "            print_stats(sess, batch_features, batch_labels, cost, accuracy)\n",
    "            \n",
    "    # Save Model\n",
    "    saver = tf.train.Saver()\n",
    "    save_path = saver.save(sess, save_model_path)"
   ]
  },
  {
   "cell_type": "markdown",
   "metadata": {
    "deletable": true,
    "editable": true
   },
   "source": [
    "# Checkpoint\n",
    "The model has been saved to disk.\n",
    "## Test Model\n",
    "Test your model against the test dataset.  This will be your final accuracy. You should have an accuracy greater than 50%. If you don't, keep tweaking the model architecture and parameters."
   ]
  },
  {
   "cell_type": "code",
   "execution_count": 32,
   "metadata": {
    "collapsed": false,
    "deletable": true,
    "editable": true
   },
   "outputs": [
    {
     "name": "stdout",
     "output_type": "stream",
     "text": [
      "Testing Accuracy: 0.6744858086109161\n",
      "\n"
     ]
    },
    {
     "data": {
      "image/png": "[encoded data removed]",
      "text/plain": [
       "<matplotlib.figure.Figure at 0x7fb728358b00>"
      ]
     },
     "metadata": {
      "image/png": {
       "height": 319,
       "width": 355
      }
     },
     "output_type": "display_data"
    }
   ],
   "source": [
    "\"\"\"\n",
    "DON'T MODIFY ANYTHING IN THIS CELL\n",
    "\"\"\"\n",
    "%matplotlib inline\n",
    "%config InlineBackend.figure_format = 'retina'\n",
    "\n",
    "import tensorflow as tf\n",
    "import pickle\n",
    "import helper\n",
    "import random\n",
    "\n",
    "# Set batch size if not already set\n",
    "try:\n",
    "    if batch_size:\n",
    "        pass\n",
    "except NameError:\n",
    "    batch_size = 64\n",
    "\n",
    "save_model_path = './image_classification'\n",
    "n_samples = 4\n",
    "top_n_predictions = 3\n",
    "\n",
    "def test_model():\n",
    "    \"\"\"\n",
    "    Test the saved model against the test dataset\n",
    "    \"\"\"\n",
    "\n",
    "    test_features, test_labels = pickle.load(open('preprocess_test.p', mode='rb'))\n",
    "    loaded_graph = tf.Graph()\n",
    "\n",
    "    with tf.Session(graph=loaded_graph) as sess:\n",
    "        # Load model\n",
    "        loader = tf.train.import_meta_graph(save_model_path + '.meta')\n",
    "        loader.restore(sess, save_model_path)\n",
    "\n",
    "        # Get Tensors from loaded model\n",
    "        loaded_x = loaded_graph.get_tensor_by_name('x:0')\n",
    "        loaded_y = loaded_graph.get_tensor_by_name('y:0')\n",
    "        loaded_keep_prob = loaded_graph.get_tensor_by_name('keep_prob:0')\n",
    "        loaded_logits = loaded_graph.get_tensor_by_name('logits:0')\n",
    "        loaded_acc = loaded_graph.get_tensor_by_name('accuracy:0')\n",
    "        \n",
    "        # Get accuracy in batches for memory limitations\n",
    "        test_batch_acc_total = 0\n",
    "        test_batch_count = 0\n",
    "        \n",
    "        for test_feature_batch, test_label_batch in helper.batch_features_labels(test_features, test_labels, batch_size):\n",
    "            test_batch_acc_total += sess.run(\n",
    "                loaded_acc,\n",
    "                feed_dict={loaded_x: test_feature_batch, loaded_y: test_label_batch, loaded_keep_prob: 1.0})\n",
    "            test_batch_count += 1\n",
    "\n",
    "        print('Testing Accuracy: {}\\n'.format(test_batch_acc_total/test_batch_count))\n",
    "\n",
    "        # Print Random Samples\n",
    "        random_test_features, random_test_labels = tuple(zip(*random.sample(list(zip(test_features, test_labels)), n_samples)))\n",
    "        random_test_predictions = sess.run(\n",
    "            tf.nn.top_k(tf.nn.softmax(loaded_logits), top_n_predictions),\n",
    "            feed_dict={loaded_x: random_test_features, loaded_y: random_test_labels, loaded_keep_prob: 1.0})\n",
    "        helper.display_image_predictions(random_test_features, random_test_labels, random_test_predictions)\n",
    "\n",
    "\n",
    "test_model()"
   ]
  },
  {
   "cell_type": "markdown",
   "metadata": {
    "deletable": true,
    "editable": true
   },
   "source": [
    "## Why 50-80% Accuracy?\n",
    "You might be wondering why you can't get an accuracy any higher. First things first, 50% isn't bad for a simple CNN.  Pure guessing would get you 10% accuracy. However, you might notice people are getting scores [well above 80%](http://rodrigob.github.io/are_we_there_yet/build/classification_datasets_results.html#43494641522d3130).  That's because we haven't taught you all there is to know about neural networks. We still need to cover a few more techniques.\n",
    "## Submitting This Project\n",
    "When submitting this project, make sure to run all the cells before saving the notebook.  Save the notebook file as \"dlnd_image_classification.ipynb\" and save it as a HTML file under \"File\" -> \"Download as\".  Include the \"helper.py\" and \"problem_unittests.py\" files in your submission."
   ]
  },
  {
   "cell_type": "code",
   "execution_count": null,
   "metadata": {
    "collapsed": true
   },
   "outputs": [],
   "source": []
  }
 ],
 "metadata": {
  "kernelspec": {
   "display_name": "Python 3",
   "language": "python",
   "name": "python3"
  },
  "language_info": {
   "codemirror_mode": {
    "name": "ipython",
    "version": 3
   },
   "file_extension": ".py",
   "mimetype": "text/x-python",
   "name": "python",
   "nbconvert_exporter": "python",
   "pygments_lexer": "ipython3",
   "version": "3.5.2"
  },
  "widgets": {
   "state": {},
   "version": "1.1.2"
  }
 },
 "nbformat": 4,
 "nbformat_minor": 1
}
