{
 "cells": [
  {
   "cell_type": "markdown",
   "metadata": {
    "collapsed": true,
    "deletable": true,
    "editable": true
   },
   "source": [
    "# Image Classification\n",
    "In this project, you'll classify images from the [CIFAR-10 dataset](https://www.cs.toronto.edu/~kriz/cifar.html).  The dataset consists of airplanes, dogs, cats, and other objects. You'll preprocess the images, then train a convolutional neural network on all the samples. The images need to be normalized and the labels need to be one-hot encoded.  You'll get to apply what you learned and build a convolutional, max pooling, dropout, and fully connected layers.  At the end, you'll get to see your neural network's predictions on the sample images.\n",
    "## Get the Data\n",
    "Run the following cell to download the [CIFAR-10 dataset for python](https://www.cs.toronto.edu/~kriz/cifar-10-python.tar.gz)."
   ]
  },
  {
   "cell_type": "code",
   "execution_count": 1,
   "metadata": {
    "collapsed": false,
    "deletable": true,
    "editable": true
   },
   "outputs": [
    {
     "name": "stdout",
     "output_type": "stream",
     "text": [
      "All files found!\n"
     ]
    }
   ],
   "source": [
    "\"\"\"\n",
    "DON'T MODIFY ANYTHING IN THIS CELL THAT IS BELOW THIS LINE\n",
    "\"\"\"\n",
    "from urllib.request import urlretrieve\n",
    "from os.path import isfile, isdir\n",
    "from tqdm import tqdm\n",
    "import problem_unittests as tests\n",
    "import tarfile\n",
    "\n",
    "cifar10_dataset_folder_path = 'cifar-10-batches-py'\n",
    "\n",
    "# Use Floyd's cifar-10 dataset if present\n",
    "floyd_cifar10_location = '/input/cifar-10/python.tar.gz'\n",
    "if isfile(floyd_cifar10_location):\n",
    "    tar_gz_path = floyd_cifar10_location\n",
    "else:\n",
    "    tar_gz_path = 'cifar-10-python.tar.gz'\n",
    "\n",
    "class DLProgress(tqdm):\n",
    "    last_block = 0\n",
    "\n",
    "    def hook(self, block_num=1, block_size=1, total_size=None):\n",
    "        self.total = total_size\n",
    "        self.update((block_num - self.last_block) * block_size)\n",
    "        self.last_block = block_num\n",
    "\n",
    "if not isfile(tar_gz_path):\n",
    "    with DLProgress(unit='B', unit_scale=True, miniters=1, desc='CIFAR-10 Dataset') as pbar:\n",
    "        urlretrieve(\n",
    "            'https://www.cs.toronto.edu/~kriz/cifar-10-python.tar.gz',\n",
    "            tar_gz_path,\n",
    "            pbar.hook)\n",
    "\n",
    "if not isdir(cifar10_dataset_folder_path):\n",
    "    with tarfile.open(tar_gz_path) as tar:\n",
    "        tar.extractall()\n",
    "        tar.close()\n",
    "\n",
    "\n",
    "tests.test_folder_path(cifar10_dataset_folder_path)"
   ]
  },
  {
   "cell_type": "markdown",
   "metadata": {
    "deletable": true,
    "editable": true
   },
   "source": [
    "## Explore the Data\n",
    "The dataset is broken into batches to prevent your machine from running out of memory.  The CIFAR-10 dataset consists of 5 batches, named `data_batch_1`, `data_batch_2`, etc.. Each batch contains the labels and images that are one of the following:\n",
    "* airplane\n",
    "* automobile\n",
    "* bird\n",
    "* cat\n",
    "* deer\n",
    "* dog\n",
    "* frog\n",
    "* horse\n",
    "* ship\n",
    "* truck\n",
    "\n",
    "Understanding a dataset is part of making predictions on the data.  Play around with the code cell below by changing the `batch_id` and `sample_id`. The `batch_id` is the id for a batch (1-5). The `sample_id` is the id for a image and label pair in the batch.\n",
    "\n",
    "Ask yourself \"What are all possible labels?\", \"What is the range of values for the image data?\", \"Are the labels in order or random?\".  Answers to questions like these will help you preprocess the data and end up with better predictions."
   ]
  },
  {
   "cell_type": "code",
   "execution_count": 2,
   "metadata": {
    "collapsed": false,
    "deletable": true,
    "editable": true
   },
   "outputs": [
    {
     "name": "stdout",
     "output_type": "stream",
     "text": [
      "\n",
      "Stats of batch 1:\n",
      "Samples: 10000\n",
      "Label Counts: {0: 1005, 1: 974, 2: 1032, 3: 1016, 4: 999, 5: 937, 6: 1030, 7: 1001, 8: 1025, 9: 981}\n",
      "First 20 Labels: [6, 9, 9, 4, 1, 1, 2, 7, 8, 3, 4, 7, 7, 2, 9, 9, 9, 3, 2, 6]\n",
      "\n",
      "Example of Image 5:\n",
      "Image - Min Value: 0 Max Value: 252\n",
      "Image - Shape: (32, 32, 3)\n",
      "Label - Label Id: 1 Name: automobile\n"
     ]
    },
    {
     "data": {
      "image/png": "[encoded data removed]",
      "text/plain": [
       "<matplotlib.figure.Figure at 0x7f28c40f5630>"
      ]
     },
     "metadata": {
      "image/png": {
       "height": 250,
       "width": 253
      }
     },
     "output_type": "display_data"
    }
   ],
   "source": [
    "%matplotlib inline\n",
    "%config InlineBackend.figure_format = 'retina'\n",
    "\n",
    "import helper\n",
    "import numpy as np\n",
    "\n",
    "# Explore the dataset\n",
    "batch_id = 1\n",
    "sample_id = 5\n",
    "helper.display_stats(cifar10_dataset_folder_path, batch_id, sample_id)"
   ]
  },
  {
   "cell_type": "markdown",
   "metadata": {
    "deletable": true,
    "editable": true
   },
   "source": [
    "## Implement Preprocess Functions\n",
    "### Normalize\n",
    "In the cell below, implement the `normalize` function to take in image data, `x`, and return it as a normalized Numpy array. The values should be in the range of 0 to 1, inclusive.  The return object should be the same shape as `x`."
   ]
  },
  {
   "cell_type": "code",
   "execution_count": 3,
   "metadata": {
    "collapsed": false,
    "deletable": true,
    "editable": true
   },
   "outputs": [
    {
     "name": "stdout",
     "output_type": "stream",
     "text": [
      "Tests Passed\n"
     ]
    }
   ],
   "source": [
    "def normalize(x):\n",
    "    \"\"\"\n",
    "    Normalize a list of sample image data in the range of 0 to 1\n",
    "    : x: List of image data.  The image shape is (32, 32, 3)\n",
    "    : return: Numpy array of normalize data\n",
    "    \"\"\"\n",
    "    # TODO: Implement Function\n",
    "    return (x-x.min())/(x.max()-x.min())\n",
    "\n",
    "\n",
    "\"\"\"\n",
    "DON'T MODIFY ANYTHING IN THIS CELL THAT IS BELOW THIS LINE\n",
    "\"\"\"\n",
    "tests.test_normalize(normalize)"
   ]
  },
  {
   "cell_type": "markdown",
   "metadata": {
    "deletable": true,
    "editable": true
   },
   "source": [
    "### One-hot encode\n",
    "Just like the previous code cell, you'll be implementing a function for preprocessing.  This time, you'll implement the `one_hot_encode` function. The input, `x`, are a list of labels.  Implement the function to return the list of labels as One-Hot encoded Numpy array.  The possible values for labels are 0 to 9. The one-hot encoding function should return the same encoding for each value between each call to `one_hot_encode`.  Make sure to save the map of encodings outside the function.\n",
    "\n",
    "Hint: Don't reinvent the wheel."
   ]
  },
  {
   "cell_type": "code",
   "execution_count": 4,
   "metadata": {
    "collapsed": false,
    "deletable": true,
    "editable": true
   },
   "outputs": [
    {
     "name": "stdout",
     "output_type": "stream",
     "text": [
      "Tests Passed\n"
     ]
    }
   ],
   "source": [
    "def one_hot_encode(x):\n",
    "    \"\"\"\n",
    "    One hot encode a list of sample labels. Return a one-hot encoded vector for each label.\n",
    "    : x: List of sample Labels\n",
    "    : return: Numpy array of one-hot encoded labels\n",
    "    \"\"\"\n",
    "    # TODO: Implement Function\n",
    "     \n",
    "    x_ret = np.zeros((len(x), 10))\n",
    "    for i in range(len(x)):\n",
    "        x_ret[i,x[i]] = 1\n",
    "    return x_ret\n",
    "\n",
    "\"\"\"\n",
    "DON'T MODIFY ANYTHING IN THIS CELL THAT IS BELOW THIS LINE\n",
    "\"\"\"\n",
    "tests.test_one_hot_encode(one_hot_encode)"
   ]
  },
  {
   "cell_type": "markdown",
   "metadata": {
    "deletable": true,
    "editable": true
   },
   "source": [
    "### Randomize Data\n",
    "As you saw from exploring the data above, the order of the samples are randomized.  It doesn't hurt to randomize it again, but you don't need to for this dataset."
   ]
  },
  {
   "cell_type": "markdown",
   "metadata": {
    "deletable": true,
    "editable": true
   },
   "source": [
    "## Preprocess all the data and save it\n",
    "Running the code cell below will preprocess all the CIFAR-10 data and save it to file. The code below also uses 10% of the training data for validation."
   ]
  },
  {
   "cell_type": "code",
   "execution_count": 5,
   "metadata": {
    "collapsed": false,
    "deletable": true,
    "editable": true
   },
   "outputs": [],
   "source": [
    "\"\"\"\n",
    "DON'T MODIFY ANYTHING IN THIS CELL\n",
    "\"\"\"\n",
    "# Preprocess Training, Validation, and Testing Data\n",
    "helper.preprocess_and_save_data(cifar10_dataset_folder_path, normalize, one_hot_encode)"
   ]
  },
  {
   "cell_type": "markdown",
   "metadata": {
    "deletable": true,
    "editable": true
   },
   "source": [
    "# Check Point\n",
    "This is your first checkpoint.  If you ever decide to come back to this notebook or have to restart the notebook, you can start from here.  The preprocessed data has been saved to disk."
   ]
  },
  {
   "cell_type": "code",
   "execution_count": 6,
   "metadata": {
    "collapsed": true,
    "deletable": true,
    "editable": true
   },
   "outputs": [],
   "source": [
    "\"\"\"\n",
    "DON'T MODIFY ANYTHING IN THIS CELL\n",
    "\"\"\"\n",
    "import pickle\n",
    "import problem_unittests as tests\n",
    "import helper\n",
    "\n",
    "# Load the Preprocessed Validation data\n",
    "valid_features, valid_labels = pickle.load(open('preprocess_validation.p', mode='rb'))"
   ]
  },
  {
   "cell_type": "code",
   "execution_count": 7,
   "metadata": {
    "collapsed": false,
    "deletable": true,
    "editable": true
   },
   "outputs": [
    {
     "name": "stdout",
     "output_type": "stream",
     "text": [
      "(5000, 32, 32, 3)\n"
     ]
    }
   ],
   "source": [
    "print(valid_features.shape)"
   ]
  },
  {
   "cell_type": "code",
   "execution_count": 8,
   "metadata": {
    "collapsed": false,
    "deletable": true,
    "editable": true
   },
   "outputs": [
    {
     "name": "stdout",
     "output_type": "stream",
     "text": [
      "[ 0.08235294  0.11764706  0.04705882]\n"
     ]
    }
   ],
   "source": [
    "print(valid_features[2][1][1])"
   ]
  },
  {
   "cell_type": "markdown",
   "metadata": {
    "deletable": true,
    "editable": true
   },
   "source": [
    "## Build the network\n",
    "For the neural network, you'll build each layer into a function.  Most of the code you've seen has been outside of functions. To test your code more thoroughly, we require that you put each layer in a function.  This allows us to give you better feedback and test for simple mistakes using our unittests before you submit your project.\n",
    "\n",
    ">**Note:** If you're finding it hard to dedicate enough time for this course each week, we've provided a small shortcut to this part of the project. In the next couple of problems, you'll have the option to use classes from the [TensorFlow Layers](https://www.tensorflow.org/api_docs/python/tf/layers) or [TensorFlow Layers (contrib)](https://www.tensorflow.org/api_guides/python/contrib.layers) packages to build each layer, except the layers you build in the \"Convolutional and Max Pooling Layer\" section.  TF Layers is similar to Keras's and TFLearn's abstraction to layers, so it's easy to pickup.\n",
    "\n",
    ">However, if you would like to get the most out of this course, try to solve all the problems _without_ using anything from the TF Layers packages. You **can** still use classes from other packages that happen to have the same name as ones you find in TF Layers! For example, instead of using the TF Layers version of the `conv2d` class, [tf.layers.conv2d](https://www.tensorflow.org/api_docs/python/tf/layers/conv2d), you would want to use the TF Neural Network version of `conv2d`, [tf.nn.conv2d](https://www.tensorflow.org/api_docs/python/tf/nn/conv2d). \n",
    "\n",
    "Let's begin!\n",
    "\n",
    "### Input\n",
    "The neural network needs to read the image data, one-hot encoded labels, and dropout keep probability. Implement the following functions\n",
    "* Implement `neural_net_image_input`\n",
    " * Return a [TF Placeholder](https://www.tensorflow.org/api_docs/python/tf/placeholder)\n",
    " * Set the shape using `image_shape` with batch size set to `None`.\n",
    " * Name the TensorFlow placeholder \"x\" using the TensorFlow `name` parameter in the [TF Placeholder](https://www.tensorflow.org/api_docs/python/tf/placeholder).\n",
    "* Implement `neural_net_label_input`\n",
    " * Return a [TF Placeholder](https://www.tensorflow.org/api_docs/python/tf/placeholder)\n",
    " * Set the shape using `n_classes` with batch size set to `None`.\n",
    " * Name the TensorFlow placeholder \"y\" using the TensorFlow `name` parameter in the [TF Placeholder](https://www.tensorflow.org/api_docs/python/tf/placeholder).\n",
    "* Implement `neural_net_keep_prob_input`\n",
    " * Return a [TF Placeholder](https://www.tensorflow.org/api_docs/python/tf/placeholder) for dropout keep probability.\n",
    " * Name the TensorFlow placeholder \"keep_prob\" using the TensorFlow `name` parameter in the [TF Placeholder](https://www.tensorflow.org/api_docs/python/tf/placeholder).\n",
    "\n",
    "These names will be used at the end of the project to load your saved model.\n",
    "\n",
    "Note: `None` for shapes in TensorFlow allow for a dynamic size."
   ]
  },
  {
   "cell_type": "code",
   "execution_count": 9,
   "metadata": {
    "collapsed": false,
    "deletable": true,
    "editable": true
   },
   "outputs": [
    {
     "name": "stdout",
     "output_type": "stream",
     "text": [
      "Image Input Tests Passed.\n",
      "Label Input Tests Passed.\n",
      "Keep Prob Tests Passed.\n"
     ]
    }
   ],
   "source": [
    "import tensorflow as tf\n",
    "\n",
    "def neural_net_image_input(image_shape):\n",
    "    \"\"\"\n",
    "    Return a Tensor for a batch of image input\n",
    "    : image_shape: Shape of the images\n",
    "    : return: Tensor for image input.\n",
    "    \"\"\"\n",
    "    # TODO: Implement Function\n",
    "    shape =[None,]+list(image_shape)  \n",
    "    x = tf.placeholder(tf.float32, shape, name='x')\n",
    "    return x\n",
    "\n",
    "\n",
    "def neural_net_label_input(n_classes):\n",
    "    \"\"\"\n",
    "    Return a Tensor for a batch of label input\n",
    "    : n_classes: Number of classes\n",
    "    : return: Tensor for label input.\n",
    "    \"\"\"\n",
    "    # TODO: Implement Function\n",
    "    shape =[None,n_classes]\n",
    "    y = tf.placeholder(tf.float32,shape, name='y')\n",
    "    return y\n",
    "\n",
    "\n",
    "def neural_net_keep_prob_input():\n",
    "    \"\"\"\n",
    "    Return a Tensor for keep probability\n",
    "    : return: Tensor for keep probability.\n",
    "    \"\"\"\n",
    "    # TODO: Implement Function \n",
    "    prob = tf.placeholder(tf.float32,None, name='keep_prob')\n",
    "    return prob\n",
    "\n",
    "\"\"\"\n",
    "DON'T MODIFY ANYTHING IN THIS CELL THAT IS BELOW THIS LINE\n",
    "\"\"\"\n",
    "tf.reset_default_graph()\n",
    "tests.test_nn_image_inputs(neural_net_image_input)\n",
    "tests.test_nn_label_inputs(neural_net_label_input)\n",
    "tests.test_nn_keep_prob_inputs(neural_net_keep_prob_input)"
   ]
  },
  {
   "cell_type": "markdown",
   "metadata": {
    "deletable": true,
    "editable": true
   },
   "source": [
    "### Convolution and Max Pooling Layer\n",
    "Convolution layers have a lot of success with images. For this code cell, you should implement the function `conv2d_maxpool` to apply convolution then max pooling:\n",
    "* Create the weight and bias using `conv_ksize`, `conv_num_outputs` and the shape of `x_tensor`.\n",
    "* Apply a convolution to `x_tensor` using weight and `conv_strides`.\n",
    " * We recommend you use same padding, but you're welcome to use any padding.\n",
    "* Add bias\n",
    "* Add a nonlinear activation to the convolution.\n",
    "* Apply Max Pooling using `pool_ksize` and `pool_strides`.\n",
    " * We recommend you use same padding, but you're welcome to use any padding.\n",
    "\n",
    "**Note:** You **can't** use [TensorFlow Layers](https://www.tensorflow.org/api_docs/python/tf/layers) or [TensorFlow Layers (contrib)](https://www.tensorflow.org/api_guides/python/contrib.layers) for **this** layer, but you can still use TensorFlow's [Neural Network](https://www.tensorflow.org/api_docs/python/tf/nn) package. You may still use the shortcut option for all the **other** layers."
   ]
  },
  {
   "cell_type": "code",
   "execution_count": 10,
   "metadata": {
    "collapsed": false,
    "deletable": true,
    "editable": true
   },
   "outputs": [
    {
     "name": "stdout",
     "output_type": "stream",
     "text": [
      "Size: (2, 2, 5, 10)\n",
      "strides: ( 4 4 )\n",
      "Tests Passed\n"
     ]
    }
   ],
   "source": [
    "from math import sqrt\n",
    "def conv2d_maxpool(x_tensor, conv_num_outputs, conv_ksize, conv_strides, pool_ksize, pool_strides):\n",
    "    \"\"\"\n",
    "    Apply convolution then max pooling to x_tensor\n",
    "    :param x_tensor: TensorFlow Tensor\n",
    "    :param conv_num_outputs: Number of outputs for the convolutional layer\n",
    "    :param conv_ksize: kernal size 2-D Tuple for the convolutional layer\n",
    "    :param conv_strides: Stride 2-D Tuple for convolution\n",
    "    :param pool_ksize: kernal size 2-D Tuple for pool\n",
    "    :param pool_strides: Stride 2-D Tuple for pool\n",
    "    : return: A tensor that represents convolution and max pooling of x_tensor\n",
    "    \"\"\"\n",
    "    # TODO: Implement Function\n",
    "    shapeIn=x_tensor.get_shape().as_list()\n",
    "    size = (conv_ksize[0],conv_ksize[1],shapeIn[3],conv_num_outputs)\n",
    "    print(\"Size:\",size )\n",
    "    W= tf.Variable(tf.truncated_normal(size,0,(1/sqrt(shapeIn[1]*shapeIn[2]*shapeIn[3])) ))\n",
    "    B= tf.Variable(tf.zeros(conv_num_outputs))\n",
    "    print(\"strides: (\",conv_strides[0],conv_strides[1],\")\")\n",
    "    x_tensor = tf.nn.conv2d(x_tensor, W, strides=[1, conv_strides[0], conv_strides[1], 1], padding='SAME')\n",
    "    x_tensor = tf.nn.bias_add(x_tensor, B)\n",
    "    x_tensor = tf.nn.relu(x_tensor)\n",
    "    x_tensor = tf.nn.max_pool(\n",
    "        x_tensor,\n",
    "        ksize=[1, pool_ksize[0], pool_ksize[1], 1],\n",
    "        strides=[1, pool_strides[0], pool_strides[1], 1],\n",
    "        padding='SAME')\n",
    "    \n",
    "    return x_tensor \n",
    "\n",
    "\n",
    "\"\"\"\n",
    "DON'T MODIFY ANYTHING IN THIS CELL THAT IS BELOW THIS LINE\n",
    "\"\"\"\n",
    "tests.test_con_pool(conv2d_maxpool)"
   ]
  },
  {
   "cell_type": "markdown",
   "metadata": {
    "deletable": true,
    "editable": true
   },
   "source": [
    "### Flatten Layer\n",
    "Implement the `flatten` function to change the dimension of `x_tensor` from a 4-D tensor to a 2-D tensor.  The output should be the shape (*Batch Size*, *Flattened Image Size*). Shortcut option: you can use classes from the [TensorFlow Layers](https://www.tensorflow.org/api_docs/python/tf/layers) or [TensorFlow Layers (contrib)](https://www.tensorflow.org/api_guides/python/contrib.layers) packages for this layer. For more of a challenge, only use other TensorFlow packages."
   ]
  },
  {
   "cell_type": "code",
   "execution_count": 11,
   "metadata": {
    "collapsed": false,
    "deletable": true,
    "editable": true
   },
   "outputs": [
    {
     "name": "stdout",
     "output_type": "stream",
     "text": [
      "[None, 10, 30, 6]\n",
      "[None, 1800]\n",
      "Tests Passed\n"
     ]
    }
   ],
   "source": [
    "def flatten(x_tensor):\n",
    "    \"\"\"\n",
    "    Flatten x_tensor to (Batch Size, Flattened Image Size)\n",
    "    : x_tensor: A tensor of size (Batch Size, ...), where ... are the image dimensions.\n",
    "    : return: A tensor of size (Batch Size, Flattened Image Size).\n",
    "    \"\"\"\n",
    "    # TODO: Implement Function\n",
    "    shapeIn=x_tensor.get_shape().as_list()\n",
    "    print(shapeIn)\n",
    "    flat= shapeIn[1]*shapeIn[2]*shapeIn[3]\n",
    "    newShape =[-1,flat]\n",
    "    x_tensor=tf.reshape(x_tensor,newShape)\n",
    "    print(x_tensor.get_shape().as_list())\n",
    "    return x_tensor\n",
    "\n",
    "\n",
    "\"\"\"\n",
    "DON'T MODIFY ANYTHING IN THIS CELL THAT IS BELOW THIS LINE\n",
    "\"\"\"\n",
    "tests.test_flatten(flatten)"
   ]
  },
  {
   "cell_type": "markdown",
   "metadata": {
    "deletable": true,
    "editable": true
   },
   "source": [
    "### Fully-Connected Layer\n",
    "Implement the `fully_conn` function to apply a fully connected layer to `x_tensor` with the shape (*Batch Size*, *num_outputs*). Shortcut option: you can use classes from the [TensorFlow Layers](https://www.tensorflow.org/api_docs/python/tf/layers) or [TensorFlow Layers (contrib)](https://www.tensorflow.org/api_guides/python/contrib.layers) packages for this layer. For more of a challenge, only use other TensorFlow packages."
   ]
  },
  {
   "cell_type": "code",
   "execution_count": 12,
   "metadata": {
    "collapsed": false,
    "deletable": true,
    "editable": true
   },
   "outputs": [
    {
     "name": "stdout",
     "output_type": "stream",
     "text": [
      "Tests Passed\n"
     ]
    }
   ],
   "source": [
    "def fully_conn(x_tensor, num_outputs):\n",
    "    \"\"\"\n",
    "    Apply a fully connected layer to x_tensor using weight and bias\n",
    "    : x_tensor: A 2-D tensor where the first dimension is batch size.\n",
    "    : num_outputs: The number of output that the new tensor should be.\n",
    "    : return: A 2-D tensor where the second dimension is num_outputs.\n",
    "    \"\"\"\n",
    "    # TODO: Implement Function\n",
    "    shapeIn=x_tensor.get_shape().as_list()\n",
    "    weights=tf.Variable(tf.truncated_normal([shapeIn[1],num_outputs], 0,0.01))\n",
    "    #biases = tf.Variable(tf.zeros(num_outputs))\n",
    "    biases = tf.Variable(tf.truncated_normal([num_outputs],0,0.01))\n",
    "    \n",
    "    x_tensor = tf.add(tf.matmul(x_tensor, weights), biases)\n",
    "  \n",
    "    return x_tensor\n",
    "\n",
    "\n",
    "\"\"\"\n",
    "DON'T MODIFY ANYTHING IN THIS CELL THAT IS BELOW THIS LINE\n",
    "\"\"\"\n",
    "tests.test_fully_conn(fully_conn)"
   ]
  },
  {
   "cell_type": "markdown",
   "metadata": {
    "deletable": true,
    "editable": true
   },
   "source": [
    "### Output Layer\n",
    "Implement the `output` function to apply a fully connected layer to `x_tensor` with the shape (*Batch Size*, *num_outputs*). Shortcut option: you can use classes from the [TensorFlow Layers](https://www.tensorflow.org/api_docs/python/tf/layers) or [TensorFlow Layers (contrib)](https://www.tensorflow.org/api_guides/python/contrib.layers) packages for this layer. For more of a challenge, only use other TensorFlow packages.\n",
    "\n",
    "**Note:** Activation, softmax, or cross entropy should **not** be applied to this."
   ]
  },
  {
   "cell_type": "code",
   "execution_count": 13,
   "metadata": {
    "collapsed": false,
    "deletable": true,
    "editable": true
   },
   "outputs": [
    {
     "name": "stdout",
     "output_type": "stream",
     "text": [
      "Tests Passed\n"
     ]
    }
   ],
   "source": [
    "def output(x_tensor, num_outputs):\n",
    "    \"\"\"\n",
    "    Apply a output layer to x_tensor using weight and bias\n",
    "    : x_tensor: A 2-D tensor where the first dimension is batch size.\n",
    "    : num_outputs: The number of output that the new tensor should be.\n",
    "    : return: A 2-D tensor where the second dimension is num_outputs.\n",
    "    \"\"\"\n",
    "    # TODO: Implement Function\n",
    "\n",
    "    shapeIn=x_tensor.get_shape().as_list()\n",
    "    weights=tf.Variable(tf.truncated_normal([shapeIn[1],num_outputs], 0,0.01))\n",
    "    biases = tf.Variable(tf.zeros(num_outputs))\n",
    "    \n",
    "    x_tensor = tf.add(tf.matmul(x_tensor, weights), biases)\n",
    "  \n",
    "    return x_tensor\n",
    "\n",
    "\n",
    "\"\"\"\n",
    "DON'T MODIFY ANYTHING IN THIS CELL THAT IS BELOW THIS LINE\n",
    "\"\"\"\n",
    "tests.test_output(output)"
   ]
  },
  {
   "cell_type": "markdown",
   "metadata": {
    "deletable": true,
    "editable": true
   },
   "source": [
    "### Create Convolutional Model\n",
    "Implement the function `conv_net` to create a convolutional neural network model. The function takes in a batch of images, `x`, and outputs logits.  Use the layers you created above to create this model:\n",
    "\n",
    "* Apply 1, 2, or 3 Convolution and Max Pool layers\n",
    "* Apply a Flatten Layer\n",
    "* Apply 1, 2, or 3 Fully Connected Layers\n",
    "* Apply an Output Layer\n",
    "* Return the output\n",
    "* Apply [TensorFlow's Dropout](https://www.tensorflow.org/api_docs/python/tf/nn/dropout) to one or more layers in the model using `keep_prob`. "
   ]
  },
  {
   "cell_type": "code",
   "execution_count": 14,
   "metadata": {
    "collapsed": false,
    "deletable": true,
    "editable": true
   },
   "outputs": [
    {
     "name": "stdout",
     "output_type": "stream",
     "text": [
      "Size: (4, 4, 3, 16)\n",
      "strides: ( 2 2 )\n",
      "[None, 16, 16, 16]\n",
      "[None, 4096]\n",
      "512\n",
      "Size: (4, 4, 3, 16)\n",
      "strides: ( 2 2 )\n",
      "[None, 16, 16, 16]\n",
      "[None, 4096]\n",
      "512\n",
      "Neural Network Built!\n"
     ]
    }
   ],
   "source": [
    "def conv_net(x, keep_prob):\n",
    "    \"\"\"\n",
    "    Create a convolutional neural network model\n",
    "    : x: Placeholder tensor that holds image data.\n",
    "    : keep_prob: Placeholder tensor that hold dropout keep probability.\n",
    "    : return: Tensor that represents logits\n",
    "    \"\"\"\n",
    "    conv_num_outputs = 16\n",
    "    conv_ksize = (4,4)\n",
    "    conv_strides = (2,2)\n",
    "    pool_ksize = (8,8)\n",
    "    pool_strides = (1,1)\n",
    "    num_outputs = 10\n",
    "    num_outputs_fully = 512\n",
    "    \n",
    "    # TODO: Apply 1, 2, or 3 Convolution and Max Pool layers\n",
    "    #    Play around with different number of outputs, kernel size and stride\n",
    "    # Function Definition from Above:\n",
    "    #    conv2d_maxpool(x_tensor, conv_num_outputs, conv_ksize, conv_strides, pool_ksize, pool_strides)\n",
    "    x_tensor = conv2d_maxpool(x, conv_num_outputs, conv_ksize, conv_strides, pool_ksize, pool_strides)\n",
    "    x_tensor = tf.nn.dropout(x_tensor, keep_prob)\n",
    "    \n",
    "    # TODO: Apply a Flatten Layer\n",
    "    # Function Definition from Above:\n",
    "    #   flatten(x_tensor)\n",
    "    x_tensor = flatten(x_tensor)\n",
    "    \n",
    "    \n",
    "    # TODO: Apply 1, 2, or 3 Fully Connected Layers\n",
    "    #    Play around with different number of outputs\n",
    "    # Function Definition from Above:\n",
    "    #   fully_conn(x_tensor, num_outputs)\n",
    "    x_tensor = fully_conn(x_tensor, num_outputs_fully)\n",
    "    x_tensor = tf.nn.relu(x_tensor)\n",
    "    x_tensor = tf.nn.dropout(x_tensor, keep_prob)\n",
    "    \n",
    "    #x_tensor = fully_conn(x_tensor, num_outputs_fully)\n",
    "    print (num_outputs_fully)\n",
    "    #x_tensor = tf.nn.relu(x_tensor)\n",
    "    #x_tensor = tf.nn.dropout(x_tensor, keep_prob)\n",
    "    \n",
    "    # TODO: Apply an Output Layer\n",
    "    #    Set this to the number of classes\n",
    "    # Function Definition from Above:\n",
    "    # output(x_tensor, num_outputs)\n",
    "    \n",
    "    x = output(x_tensor, num_outputs)\n",
    "    # TODO: return output\n",
    "    return x\n",
    "\n",
    "\n",
    "\"\"\"\n",
    "DON'T MODIFY ANYTHING IN THIS CELL THAT IS BELOW THIS LINE\n",
    "\"\"\"\n",
    "\n",
    "##############################\n",
    "## Build the Neural Network ##\n",
    "##############################\n",
    "\n",
    "# Remove previous weights, bias, inputs, etc..\n",
    "tf.reset_default_graph()\n",
    "\n",
    "# Inputs\n",
    "x = neural_net_image_input((32, 32, 3))\n",
    "y = neural_net_label_input(10)\n",
    "keep_prob = neural_net_keep_prob_input()\n",
    "\n",
    "# Model\n",
    "logits = conv_net(x, keep_prob)\n",
    "\n",
    "# Name logits Tensor, so that is can be loaded from disk after training\n",
    "logits = tf.identity(logits, name='logits')\n",
    "\n",
    "# Loss and Optimizer\n",
    "cost = tf.reduce_mean(tf.nn.softmax_cross_entropy_with_logits(logits=logits, labels=y))\n",
    "optimizer = tf.train.AdamOptimizer().minimize(cost)\n",
    "\n",
    "# Accuracy\n",
    "correct_pred = tf.equal(tf.argmax(logits, 1), tf.argmax(y, 1))\n",
    "accuracy = tf.reduce_mean(tf.cast(correct_pred, tf.float32), name='accuracy')\n",
    "\n",
    "tests.test_conv_net(conv_net)"
   ]
  },
  {
   "cell_type": "markdown",
   "metadata": {
    "deletable": true,
    "editable": true
   },
   "source": [
    "# Train the Neural Network\n",
    "### Single Optimization\n",
    "Implement the function `train_neural_network` to do a single optimization.  The optimization should use `optimizer` to optimize in `session` with a `feed_dict` of the following:\n",
    "* `x` for image input\n",
    "* `y` for labels\n",
    "* `keep_prob` for keep probability for dropout\n",
    "\n",
    "This function will be called for each batch, so `tf.global_variables_initializer()` has already been called.\n",
    "\n",
    "Note: Nothing needs to be returned. This function is only optimizing the neural network."
   ]
  },
  {
   "cell_type": "code",
   "execution_count": 15,
   "metadata": {
    "collapsed": false,
    "deletable": true,
    "editable": true
   },
   "outputs": [
    {
     "name": "stdout",
     "output_type": "stream",
     "text": [
      "Tests Passed\n"
     ]
    }
   ],
   "source": [
    "def train_neural_network(session, optimizer, keep_probability, feature_batch, label_batch):\n",
    "    \"\"\"\n",
    "    Optimize the session on a batch of images and labels\n",
    "    : session: Current TensorFlow session\n",
    "    : optimizer: TensorFlow optimizer function\n",
    "    : keep_probability: keep probability\n",
    "    : feature_batch: Batch of Numpy image data\n",
    "    : label_batch: Batch of Numpy label data\n",
    "    \"\"\"\n",
    "    # TODO: Implement Function\n",
    "    session.run(optimizer, feed_dict={x:feature_batch, y:label_batch, keep_prob:keep_probability})\n",
    "    pass\n",
    "\n",
    "\n",
    "\"\"\"\n",
    "DON'T MODIFY ANYTHING IN THIS CELL THAT IS BELOW THIS LINE\n",
    "\"\"\"\n",
    "tests.test_train_nn(train_neural_network)"
   ]
  },
  {
   "cell_type": "markdown",
   "metadata": {
    "deletable": true,
    "editable": true
   },
   "source": [
    "### Show Stats\n",
    "Implement the function `print_stats` to print loss and validation accuracy.  Use the global variables `valid_features` and `valid_labels` to calculate validation accuracy.  Use a keep probability of `1.0` to calculate the loss and validation accuracy."
   ]
  },
  {
   "cell_type": "code",
   "execution_count": 16,
   "metadata": {
    "collapsed": true,
    "deletable": true,
    "editable": true
   },
   "outputs": [],
   "source": [
    "def print_stats(session, feature_batch, label_batch, cost, accuracy):\n",
    "    \"\"\"\n",
    "    Print information about loss and validation accuracy\n",
    "    : session: Current TensorFlow session\n",
    "    : feature_batch: Batch of Numpy image data\n",
    "    : label_batch: Batch of Numpy label data\n",
    "    : cost: TensorFlow cost function\n",
    "    : accuracy: TensorFlow accuracy function\n",
    "    \"\"\"\n",
    "    # TODO: Implement Function\n",
    "    loss = session.run(cost, feed_dict={ x: feature_batch,y: label_batch,keep_prob: 1.0})\n",
    "    valid_acc = session.run(accuracy, feed_dict={x: valid_features,y: valid_labels,keep_prob: 1.0})\n",
    "    print('Loss: {:>10.4f} Validation Accuracy: {:.6f}'.format(loss,valid_acc))\n",
    "    pass"
   ]
  },
  {
   "cell_type": "markdown",
   "metadata": {
    "deletable": true,
    "editable": true
   },
   "source": [
    "### Hyperparameters\n",
    "Tune the following parameters:\n",
    "* Set `epochs` to the number of iterations until the network stops learning or start overfitting\n",
    "* Set `batch_size` to the highest number that your machine has memory for.  Most people set them to common sizes of memory:\n",
    " * 64\n",
    " * 128\n",
    " * 256\n",
    " * ...\n",
    "* Set `keep_probability` to the probability of keeping a node using dropout"
   ]
  },
  {
   "cell_type": "code",
   "execution_count": 17,
   "metadata": {
    "collapsed": true,
    "deletable": true,
    "editable": true
   },
   "outputs": [],
   "source": [
    "# TODO: Tune Parameters\n",
    "epochs = 60\n",
    "batch_size = 1024\n",
    "keep_probability = 0.6"
   ]
  },
  {
   "cell_type": "markdown",
   "metadata": {
    "deletable": true,
    "editable": true
   },
   "source": [
    "### Train on a Single CIFAR-10 Batch\n",
    "Instead of training the neural network on all the CIFAR-10 batches of data, let's use a single batch. This should save time while you iterate on the model to get a better accuracy.  Once the final validation accuracy is 50% or greater, run the model on all the data in the next section."
   ]
  },
  {
   "cell_type": "code",
   "execution_count": 18,
   "metadata": {
    "collapsed": false,
    "deletable": true,
    "editable": true
   },
   "outputs": [
    {
     "name": "stdout",
     "output_type": "stream",
     "text": [
      "Checking the Training on a Single Batch...\n",
      "Epoch  1, CIFAR-10 Batch 1:  Loss:     2.2160 Validation Accuracy: 0.218400\n",
      "Epoch  2, CIFAR-10 Batch 1:  Loss:     2.0519 Validation Accuracy: 0.245600\n",
      "Epoch  3, CIFAR-10 Batch 1:  Loss:     1.9512 Validation Accuracy: 0.296400\n",
      "Epoch  4, CIFAR-10 Batch 1:  Loss:     1.8277 Validation Accuracy: 0.352000\n",
      "Epoch  5, CIFAR-10 Batch 1:  Loss:     1.7757 Validation Accuracy: 0.368200\n",
      "Epoch  6, CIFAR-10 Batch 1:  Loss:     1.7139 Validation Accuracy: 0.379200\n",
      "Epoch  7, CIFAR-10 Batch 1:  Loss:     1.6515 Validation Accuracy: 0.399400\n",
      "Epoch  8, CIFAR-10 Batch 1:  Loss:     1.6021 Validation Accuracy: 0.419400\n",
      "Epoch  9, CIFAR-10 Batch 1:  Loss:     1.5758 Validation Accuracy: 0.431800\n",
      "Epoch 10, CIFAR-10 Batch 1:  Loss:     1.5353 Validation Accuracy: 0.439400\n",
      "Epoch 11, CIFAR-10 Batch 1:  Loss:     1.5029 Validation Accuracy: 0.441800\n",
      "Epoch 12, CIFAR-10 Batch 1:  Loss:     1.4811 Validation Accuracy: 0.447400\n",
      "Epoch 13, CIFAR-10 Batch 1:  Loss:     1.4669 Validation Accuracy: 0.452000\n",
      "Epoch 14, CIFAR-10 Batch 1:  Loss:     1.4456 Validation Accuracy: 0.457200\n",
      "Epoch 15, CIFAR-10 Batch 1:  Loss:     1.4254 Validation Accuracy: 0.459600\n",
      "Epoch 16, CIFAR-10 Batch 1:  Loss:     1.4167 Validation Accuracy: 0.463200\n",
      "Epoch 17, CIFAR-10 Batch 1:  Loss:     1.4001 Validation Accuracy: 0.472000\n",
      "Epoch 18, CIFAR-10 Batch 1:  Loss:     1.3845 Validation Accuracy: 0.478000\n",
      "Epoch 19, CIFAR-10 Batch 1:  Loss:     1.3625 Validation Accuracy: 0.480200\n",
      "Epoch 20, CIFAR-10 Batch 1:  Loss:     1.3531 Validation Accuracy: 0.483600\n",
      "Epoch 21, CIFAR-10 Batch 1:  Loss:     1.3341 Validation Accuracy: 0.488400\n",
      "Epoch 22, CIFAR-10 Batch 1:  Loss:     1.3186 Validation Accuracy: 0.492200\n",
      "Epoch 23, CIFAR-10 Batch 1:  Loss:     1.3090 Validation Accuracy: 0.496800\n",
      "Epoch 24, CIFAR-10 Batch 1:  Loss:     1.2955 Validation Accuracy: 0.501200\n",
      "Epoch 25, CIFAR-10 Batch 1:  Loss:     1.2898 Validation Accuracy: 0.508000\n",
      "Epoch 26, CIFAR-10 Batch 1:  Loss:     1.2721 Validation Accuracy: 0.502600\n",
      "Epoch 27, CIFAR-10 Batch 1:  Loss:     1.2615 Validation Accuracy: 0.509800\n",
      "Epoch 28, CIFAR-10 Batch 1:  Loss:     1.2479 Validation Accuracy: 0.512200\n",
      "Epoch 29, CIFAR-10 Batch 1:  Loss:     1.2534 Validation Accuracy: 0.515400\n",
      "Epoch 30, CIFAR-10 Batch 1:  Loss:     1.2292 Validation Accuracy: 0.522200\n",
      "Epoch 31, CIFAR-10 Batch 1:  Loss:     1.2161 Validation Accuracy: 0.523600\n",
      "Epoch 32, CIFAR-10 Batch 1:  Loss:     1.2110 Validation Accuracy: 0.526600\n",
      "Epoch 33, CIFAR-10 Batch 1:  Loss:     1.2038 Validation Accuracy: 0.530200\n",
      "Epoch 34, CIFAR-10 Batch 1:  Loss:     1.1821 Validation Accuracy: 0.535600\n",
      "Epoch 35, CIFAR-10 Batch 1:  Loss:     1.1808 Validation Accuracy: 0.528600\n",
      "Epoch 36, CIFAR-10 Batch 1:  Loss:     1.1738 Validation Accuracy: 0.536800\n",
      "Epoch 37, CIFAR-10 Batch 1:  Loss:     1.1576 Validation Accuracy: 0.542400\n",
      "Epoch 38, CIFAR-10 Batch 1:  Loss:     1.1783 Validation Accuracy: 0.535600\n",
      "Epoch 39, CIFAR-10 Batch 1:  Loss:     1.1565 Validation Accuracy: 0.536600\n",
      "Epoch 40, CIFAR-10 Batch 1:  Loss:     1.1281 Validation Accuracy: 0.543200\n",
      "Epoch 41, CIFAR-10 Batch 1:  Loss:     1.1249 Validation Accuracy: 0.549000\n",
      "Epoch 42, CIFAR-10 Batch 1:  Loss:     1.1112 Validation Accuracy: 0.547400\n",
      "Epoch 43, CIFAR-10 Batch 1:  Loss:     1.1124 Validation Accuracy: 0.546200\n",
      "Epoch 44, CIFAR-10 Batch 1:  Loss:     1.0955 Validation Accuracy: 0.557600\n",
      "Epoch 45, CIFAR-10 Batch 1:  Loss:     1.0932 Validation Accuracy: 0.551400\n",
      "Epoch 46, CIFAR-10 Batch 1:  Loss:     1.0764 Validation Accuracy: 0.556600\n",
      "Epoch 47, CIFAR-10 Batch 1:  Loss:     1.0799 Validation Accuracy: 0.557400\n",
      "Epoch 48, CIFAR-10 Batch 1:  Loss:     1.0699 Validation Accuracy: 0.561000\n",
      "Epoch 49, CIFAR-10 Batch 1:  Loss:     1.0597 Validation Accuracy: 0.558200\n",
      "Epoch 50, CIFAR-10 Batch 1:  Loss:     1.0516 Validation Accuracy: 0.560600\n",
      "Epoch 51, CIFAR-10 Batch 1:  Loss:     1.0547 Validation Accuracy: 0.556400\n",
      "Epoch 52, CIFAR-10 Batch 1:  Loss:     1.0413 Validation Accuracy: 0.565000\n",
      "Epoch 53, CIFAR-10 Batch 1:  Loss:     1.0299 Validation Accuracy: 0.563800\n",
      "Epoch 54, CIFAR-10 Batch 1:  Loss:     1.0314 Validation Accuracy: 0.566600\n",
      "Epoch 55, CIFAR-10 Batch 1:  Loss:     1.0212 Validation Accuracy: 0.567000\n",
      "Epoch 56, CIFAR-10 Batch 1:  Loss:     1.0234 Validation Accuracy: 0.565200\n",
      "Epoch 57, CIFAR-10 Batch 1:  Loss:     1.0041 Validation Accuracy: 0.569800\n",
      "Epoch 58, CIFAR-10 Batch 1:  Loss:     0.9946 Validation Accuracy: 0.569400\n",
      "Epoch 59, CIFAR-10 Batch 1:  Loss:     0.9940 Validation Accuracy: 0.568200\n",
      "Epoch 60, CIFAR-10 Batch 1:  Loss:     0.9861 Validation Accuracy: 0.574400\n"
     ]
    }
   ],
   "source": [
    "\"\"\"\n",
    "DON'T MODIFY ANYTHING IN THIS CELL\n",
    "\"\"\"\n",
    "print('Checking the Training on a Single Batch...')\n",
    "with tf.Session() as sess:\n",
    "    # Initializing the variables\n",
    "    sess.run(tf.global_variables_initializer())\n",
    "    \n",
    "    # Training cycle\n",
    "    for epoch in range(epochs):\n",
    "        batch_i = 1\n",
    "        for batch_features, batch_labels in helper.load_preprocess_training_batch(batch_i, batch_size):\n",
    "            train_neural_network(sess, optimizer, keep_probability, batch_features, batch_labels)\n",
    "        print('Epoch {:>2}, CIFAR-10 Batch {}:  '.format(epoch + 1, batch_i), end='')\n",
    "        print_stats(sess, batch_features, batch_labels, cost, accuracy)"
   ]
  },
  {
   "cell_type": "markdown",
   "metadata": {
    "deletable": true,
    "editable": true
   },
   "source": [
    "### Fully Train the Model\n",
    "Now that you got a good accuracy with a single CIFAR-10 batch, try it with all five batches."
   ]
  },
  {
   "cell_type": "code",
   "execution_count": 19,
   "metadata": {
    "collapsed": false,
    "deletable": true,
    "editable": true
   },
   "outputs": [
    {
     "name": "stdout",
     "output_type": "stream",
     "text": [
      "Training...\n",
      "Epoch  1, CIFAR-10 Batch 1:  Loss:     2.1973 Validation Accuracy: 0.230200\n",
      "Epoch  1, CIFAR-10 Batch 2:  Loss:     1.9283 Validation Accuracy: 0.323400\n",
      "Epoch  1, CIFAR-10 Batch 3:  Loss:     1.7956 Validation Accuracy: 0.336200\n",
      "Epoch  1, CIFAR-10 Batch 4:  Loss:     1.7422 Validation Accuracy: 0.362600\n",
      "Epoch  1, CIFAR-10 Batch 5:  Loss:     1.7290 Validation Accuracy: 0.361800\n",
      "Epoch  2, CIFAR-10 Batch 1:  Loss:     1.6571 Validation Accuracy: 0.392400\n",
      "Epoch  2, CIFAR-10 Batch 2:  Loss:     1.6746 Validation Accuracy: 0.403000\n",
      "Epoch  2, CIFAR-10 Batch 3:  Loss:     1.5709 Validation Accuracy: 0.417600\n",
      "Epoch  2, CIFAR-10 Batch 4:  Loss:     1.5328 Validation Accuracy: 0.419800\n",
      "Epoch  2, CIFAR-10 Batch 5:  Loss:     1.5831 Validation Accuracy: 0.430400\n",
      "Epoch  3, CIFAR-10 Batch 1:  Loss:     1.5164 Validation Accuracy: 0.447800\n",
      "Epoch  3, CIFAR-10 Batch 2:  Loss:     1.5542 Validation Accuracy: 0.451400\n",
      "Epoch  3, CIFAR-10 Batch 3:  Loss:     1.4670 Validation Accuracy: 0.454800\n",
      "Epoch  3, CIFAR-10 Batch 4:  Loss:     1.4355 Validation Accuracy: 0.466200\n",
      "Epoch  3, CIFAR-10 Batch 5:  Loss:     1.4865 Validation Accuracy: 0.464800\n",
      "Epoch  4, CIFAR-10 Batch 1:  Loss:     1.4401 Validation Accuracy: 0.475800\n",
      "Epoch  4, CIFAR-10 Batch 2:  Loss:     1.4842 Validation Accuracy: 0.480800\n",
      "Epoch  4, CIFAR-10 Batch 3:  Loss:     1.3867 Validation Accuracy: 0.480000\n",
      "Epoch  4, CIFAR-10 Batch 4:  Loss:     1.3577 Validation Accuracy: 0.488000\n",
      "Epoch  4, CIFAR-10 Batch 5:  Loss:     1.4153 Validation Accuracy: 0.483600\n",
      "Epoch  5, CIFAR-10 Batch 1:  Loss:     1.3694 Validation Accuracy: 0.500200\n",
      "Epoch  5, CIFAR-10 Batch 2:  Loss:     1.4270 Validation Accuracy: 0.499400\n",
      "Epoch  5, CIFAR-10 Batch 3:  Loss:     1.3299 Validation Accuracy: 0.493400\n",
      "Epoch  5, CIFAR-10 Batch 4:  Loss:     1.3169 Validation Accuracy: 0.508400\n",
      "Epoch  5, CIFAR-10 Batch 5:  Loss:     1.3578 Validation Accuracy: 0.503600\n",
      "Epoch  6, CIFAR-10 Batch 1:  Loss:     1.3211 Validation Accuracy: 0.521000\n",
      "Epoch  6, CIFAR-10 Batch 2:  Loss:     1.3722 Validation Accuracy: 0.514800\n",
      "Epoch  6, CIFAR-10 Batch 3:  Loss:     1.2728 Validation Accuracy: 0.518600\n",
      "Epoch  6, CIFAR-10 Batch 4:  Loss:     1.2965 Validation Accuracy: 0.509800\n",
      "Epoch  6, CIFAR-10 Batch 5:  Loss:     1.3250 Validation Accuracy: 0.514400\n",
      "Epoch  7, CIFAR-10 Batch 1:  Loss:     1.2807 Validation Accuracy: 0.535000\n",
      "Epoch  7, CIFAR-10 Batch 2:  Loss:     1.3419 Validation Accuracy: 0.539400\n",
      "Epoch  7, CIFAR-10 Batch 3:  Loss:     1.2380 Validation Accuracy: 0.535800\n",
      "Epoch  7, CIFAR-10 Batch 4:  Loss:     1.2507 Validation Accuracy: 0.529000\n",
      "Epoch  7, CIFAR-10 Batch 5:  Loss:     1.2813 Validation Accuracy: 0.534600\n",
      "Epoch  8, CIFAR-10 Batch 1:  Loss:     1.2420 Validation Accuracy: 0.550600\n",
      "Epoch  8, CIFAR-10 Batch 2:  Loss:     1.3063 Validation Accuracy: 0.549200\n",
      "Epoch  8, CIFAR-10 Batch 3:  Loss:     1.1962 Validation Accuracy: 0.546400\n",
      "Epoch  8, CIFAR-10 Batch 4:  Loss:     1.2143 Validation Accuracy: 0.542200\n",
      "Epoch  8, CIFAR-10 Batch 5:  Loss:     1.2537 Validation Accuracy: 0.537000\n",
      "Epoch  9, CIFAR-10 Batch 1:  Loss:     1.2191 Validation Accuracy: 0.558600\n",
      "Epoch  9, CIFAR-10 Batch 2:  Loss:     1.2758 Validation Accuracy: 0.556200\n",
      "Epoch  9, CIFAR-10 Batch 3:  Loss:     1.1725 Validation Accuracy: 0.553800\n",
      "Epoch  9, CIFAR-10 Batch 4:  Loss:     1.1929 Validation Accuracy: 0.558800\n",
      "Epoch  9, CIFAR-10 Batch 5:  Loss:     1.2135 Validation Accuracy: 0.550600\n",
      "Epoch 10, CIFAR-10 Batch 1:  Loss:     1.1951 Validation Accuracy: 0.566200\n",
      "Epoch 10, CIFAR-10 Batch 2:  Loss:     1.2534 Validation Accuracy: 0.572400\n",
      "Epoch 10, CIFAR-10 Batch 3:  Loss:     1.1455 Validation Accuracy: 0.559800\n",
      "Epoch 10, CIFAR-10 Batch 4:  Loss:     1.1748 Validation Accuracy: 0.565000\n",
      "Epoch 10, CIFAR-10 Batch 5:  Loss:     1.1950 Validation Accuracy: 0.554800\n",
      "Epoch 11, CIFAR-10 Batch 1:  Loss:     1.1720 Validation Accuracy: 0.573200\n",
      "Epoch 11, CIFAR-10 Batch 2:  Loss:     1.2280 Validation Accuracy: 0.573400\n",
      "Epoch 11, CIFAR-10 Batch 3:  Loss:     1.1172 Validation Accuracy: 0.574400\n",
      "Epoch 11, CIFAR-10 Batch 4:  Loss:     1.1526 Validation Accuracy: 0.573000\n",
      "Epoch 11, CIFAR-10 Batch 5:  Loss:     1.1622 Validation Accuracy: 0.562800\n",
      "Epoch 12, CIFAR-10 Batch 1:  Loss:     1.1513 Validation Accuracy: 0.583800\n",
      "Epoch 12, CIFAR-10 Batch 2:  Loss:     1.2129 Validation Accuracy: 0.576400\n",
      "Epoch 12, CIFAR-10 Batch 3:  Loss:     1.1004 Validation Accuracy: 0.577000\n",
      "Epoch 12, CIFAR-10 Batch 4:  Loss:     1.1370 Validation Accuracy: 0.581600\n",
      "Epoch 12, CIFAR-10 Batch 5:  Loss:     1.1400 Validation Accuracy: 0.567200\n",
      "Epoch 13, CIFAR-10 Batch 1:  Loss:     1.1360 Validation Accuracy: 0.589800\n",
      "Epoch 13, CIFAR-10 Batch 2:  Loss:     1.1909 Validation Accuracy: 0.592400\n",
      "Epoch 13, CIFAR-10 Batch 3:  Loss:     1.0921 Validation Accuracy: 0.575200\n",
      "Epoch 13, CIFAR-10 Batch 4:  Loss:     1.1184 Validation Accuracy: 0.591200\n",
      "Epoch 13, CIFAR-10 Batch 5:  Loss:     1.1073 Validation Accuracy: 0.577800\n",
      "Epoch 14, CIFAR-10 Batch 1:  Loss:     1.1134 Validation Accuracy: 0.594800\n",
      "Epoch 14, CIFAR-10 Batch 2:  Loss:     1.1749 Validation Accuracy: 0.595200\n",
      "Epoch 14, CIFAR-10 Batch 3:  Loss:     1.0830 Validation Accuracy: 0.585600\n",
      "Epoch 14, CIFAR-10 Batch 4:  Loss:     1.1053 Validation Accuracy: 0.599400\n",
      "Epoch 14, CIFAR-10 Batch 5:  Loss:     1.0957 Validation Accuracy: 0.577000\n",
      "Epoch 15, CIFAR-10 Batch 1:  Loss:     1.0963 Validation Accuracy: 0.599200\n",
      "Epoch 15, CIFAR-10 Batch 2:  Loss:     1.1617 Validation Accuracy: 0.600600\n",
      "Epoch 15, CIFAR-10 Batch 3:  Loss:     1.0765 Validation Accuracy: 0.587200\n",
      "Epoch 15, CIFAR-10 Batch 4:  Loss:     1.0867 Validation Accuracy: 0.597800\n",
      "Epoch 15, CIFAR-10 Batch 5:  Loss:     1.0661 Validation Accuracy: 0.588200\n",
      "Epoch 16, CIFAR-10 Batch 1:  Loss:     1.0728 Validation Accuracy: 0.603600\n",
      "Epoch 16, CIFAR-10 Batch 2:  Loss:     1.1421 Validation Accuracy: 0.604000\n",
      "Epoch 16, CIFAR-10 Batch 3:  Loss:     1.0479 Validation Accuracy: 0.596400\n",
      "Epoch 16, CIFAR-10 Batch 4:  Loss:     1.0725 Validation Accuracy: 0.604400\n",
      "Epoch 16, CIFAR-10 Batch 5:  Loss:     1.0586 Validation Accuracy: 0.585800\n",
      "Epoch 17, CIFAR-10 Batch 1:  Loss:     1.0674 Validation Accuracy: 0.605400\n",
      "Epoch 17, CIFAR-10 Batch 2:  Loss:     1.1271 Validation Accuracy: 0.607600\n",
      "Epoch 17, CIFAR-10 Batch 3:  Loss:     1.0545 Validation Accuracy: 0.596000\n",
      "Epoch 17, CIFAR-10 Batch 4:  Loss:     1.0581 Validation Accuracy: 0.609800\n",
      "Epoch 17, CIFAR-10 Batch 5:  Loss:     1.0375 Validation Accuracy: 0.593200\n",
      "Epoch 18, CIFAR-10 Batch 1:  Loss:     1.0503 Validation Accuracy: 0.608000\n",
      "Epoch 18, CIFAR-10 Batch 2:  Loss:     1.1082 Validation Accuracy: 0.611400\n",
      "Epoch 18, CIFAR-10 Batch 3:  Loss:     1.0331 Validation Accuracy: 0.601200\n",
      "Epoch 18, CIFAR-10 Batch 4:  Loss:     1.0392 Validation Accuracy: 0.609200\n",
      "Epoch 18, CIFAR-10 Batch 5:  Loss:     1.0215 Validation Accuracy: 0.595200\n",
      "Epoch 19, CIFAR-10 Batch 1:  Loss:     1.0359 Validation Accuracy: 0.610000\n",
      "Epoch 19, CIFAR-10 Batch 2:  Loss:     1.0924 Validation Accuracy: 0.616200\n",
      "Epoch 19, CIFAR-10 Batch 3:  Loss:     1.0232 Validation Accuracy: 0.601800\n",
      "Epoch 19, CIFAR-10 Batch 4:  Loss:     1.0310 Validation Accuracy: 0.611800\n",
      "Epoch 19, CIFAR-10 Batch 5:  Loss:     0.9996 Validation Accuracy: 0.599600\n",
      "Epoch 20, CIFAR-10 Batch 1:  Loss:     1.0216 Validation Accuracy: 0.610800\n",
      "Epoch 20, CIFAR-10 Batch 2:  Loss:     1.0795 Validation Accuracy: 0.615800\n",
      "Epoch 20, CIFAR-10 Batch 3:  Loss:     1.0173 Validation Accuracy: 0.606200\n",
      "Epoch 20, CIFAR-10 Batch 4:  Loss:     1.0174 Validation Accuracy: 0.618400\n",
      "Epoch 20, CIFAR-10 Batch 5:  Loss:     0.9868 Validation Accuracy: 0.606200\n",
      "Epoch 21, CIFAR-10 Batch 1:  Loss:     1.0049 Validation Accuracy: 0.619600\n",
      "Epoch 21, CIFAR-10 Batch 2:  Loss:     1.0595 Validation Accuracy: 0.620800\n",
      "Epoch 21, CIFAR-10 Batch 3:  Loss:     1.0057 Validation Accuracy: 0.607200\n",
      "Epoch 21, CIFAR-10 Batch 4:  Loss:     1.0067 Validation Accuracy: 0.627200\n",
      "Epoch 21, CIFAR-10 Batch 5:  Loss:     0.9679 Validation Accuracy: 0.613000\n",
      "Epoch 22, CIFAR-10 Batch 1:  Loss:     0.9991 Validation Accuracy: 0.619000\n",
      "Epoch 22, CIFAR-10 Batch 2:  Loss:     1.0421 Validation Accuracy: 0.622000\n",
      "Epoch 22, CIFAR-10 Batch 3:  Loss:     0.9975 Validation Accuracy: 0.609200\n",
      "Epoch 22, CIFAR-10 Batch 4:  Loss:     1.0018 Validation Accuracy: 0.620200\n",
      "Epoch 22, CIFAR-10 Batch 5:  Loss:     0.9547 Validation Accuracy: 0.622200\n",
      "Epoch 23, CIFAR-10 Batch 1:  Loss:     0.9828 Validation Accuracy: 0.619400\n",
      "Epoch 23, CIFAR-10 Batch 2:  Loss:     1.0356 Validation Accuracy: 0.623000\n",
      "Epoch 23, CIFAR-10 Batch 3:  Loss:     0.9879 Validation Accuracy: 0.607200\n",
      "Epoch 23, CIFAR-10 Batch 4:  Loss:     0.9881 Validation Accuracy: 0.629200\n",
      "Epoch 23, CIFAR-10 Batch 5:  Loss:     0.9347 Validation Accuracy: 0.624000\n",
      "Epoch 24, CIFAR-10 Batch 1:  Loss:     0.9804 Validation Accuracy: 0.623600\n",
      "Epoch 24, CIFAR-10 Batch 2:  Loss:     1.0273 Validation Accuracy: 0.627600\n",
      "Epoch 24, CIFAR-10 Batch 3:  Loss:     0.9846 Validation Accuracy: 0.614200\n",
      "Epoch 24, CIFAR-10 Batch 4:  Loss:     0.9780 Validation Accuracy: 0.628400\n",
      "Epoch 24, CIFAR-10 Batch 5:  Loss:     0.9334 Validation Accuracy: 0.624800\n",
      "Epoch 25, CIFAR-10 Batch 1:  Loss:     0.9622 Validation Accuracy: 0.630400\n",
      "Epoch 25, CIFAR-10 Batch 2:  Loss:     1.0157 Validation Accuracy: 0.632400\n",
      "Epoch 25, CIFAR-10 Batch 3:  Loss:     0.9724 Validation Accuracy: 0.616600\n",
      "Epoch 25, CIFAR-10 Batch 4:  Loss:     0.9657 Validation Accuracy: 0.625800\n",
      "Epoch 25, CIFAR-10 Batch 5:  Loss:     0.9109 Validation Accuracy: 0.629200\n",
      "Epoch 26, CIFAR-10 Batch 1:  Loss:     0.9538 Validation Accuracy: 0.628600\n",
      "Epoch 26, CIFAR-10 Batch 2:  Loss:     1.0003 Validation Accuracy: 0.635400\n",
      "Epoch 26, CIFAR-10 Batch 3:  Loss:     0.9599 Validation Accuracy: 0.617200\n",
      "Epoch 26, CIFAR-10 Batch 4:  Loss:     0.9749 Validation Accuracy: 0.625200\n",
      "Epoch 26, CIFAR-10 Batch 5:  Loss:     0.9145 Validation Accuracy: 0.626000\n",
      "Epoch 27, CIFAR-10 Batch 1:  Loss:     0.9426 Validation Accuracy: 0.629400\n",
      "Epoch 27, CIFAR-10 Batch 2:  Loss:     0.9924 Validation Accuracy: 0.638000\n",
      "Epoch 27, CIFAR-10 Batch 3:  Loss:     0.9477 Validation Accuracy: 0.620600\n",
      "Epoch 27, CIFAR-10 Batch 4:  Loss:     0.9451 Validation Accuracy: 0.635200\n",
      "Epoch 27, CIFAR-10 Batch 5:  Loss:     0.8937 Validation Accuracy: 0.632800\n",
      "Epoch 28, CIFAR-10 Batch 1:  Loss:     0.9297 Validation Accuracy: 0.634200\n",
      "Epoch 28, CIFAR-10 Batch 2:  Loss:     0.9704 Validation Accuracy: 0.637000\n",
      "Epoch 28, CIFAR-10 Batch 3:  Loss:     0.9375 Validation Accuracy: 0.627600\n",
      "Epoch 28, CIFAR-10 Batch 4:  Loss:     0.9430 Validation Accuracy: 0.632000\n",
      "Epoch 28, CIFAR-10 Batch 5:  Loss:     0.8872 Validation Accuracy: 0.630200\n",
      "Epoch 29, CIFAR-10 Batch 1:  Loss:     0.9216 Validation Accuracy: 0.634600\n",
      "Epoch 29, CIFAR-10 Batch 2:  Loss:     0.9730 Validation Accuracy: 0.635000\n",
      "Epoch 29, CIFAR-10 Batch 3:  Loss:     0.9420 Validation Accuracy: 0.626400\n",
      "Epoch 29, CIFAR-10 Batch 4:  Loss:     0.9381 Validation Accuracy: 0.634600\n",
      "Epoch 29, CIFAR-10 Batch 5:  Loss:     0.8743 Validation Accuracy: 0.636200\n",
      "Epoch 30, CIFAR-10 Batch 1:  Loss:     0.9208 Validation Accuracy: 0.634600\n",
      "Epoch 30, CIFAR-10 Batch 2:  Loss:     0.9579 Validation Accuracy: 0.647800\n",
      "Epoch 30, CIFAR-10 Batch 3:  Loss:     0.9023 Validation Accuracy: 0.639000\n",
      "Epoch 30, CIFAR-10 Batch 4:  Loss:     0.9155 Validation Accuracy: 0.639000\n",
      "Epoch 30, CIFAR-10 Batch 5:  Loss:     0.8633 Validation Accuracy: 0.639600\n",
      "Epoch 31, CIFAR-10 Batch 1:  Loss:     0.9005 Validation Accuracy: 0.640200\n",
      "Epoch 31, CIFAR-10 Batch 2:  Loss:     0.9492 Validation Accuracy: 0.639200\n",
      "Epoch 31, CIFAR-10 Batch 3:  Loss:     0.8982 Validation Accuracy: 0.636000\n",
      "Epoch 31, CIFAR-10 Batch 4:  Loss:     0.9076 Validation Accuracy: 0.639000\n",
      "Epoch 31, CIFAR-10 Batch 5:  Loss:     0.8398 Validation Accuracy: 0.642000\n",
      "Epoch 32, CIFAR-10 Batch 1:  Loss:     0.8995 Validation Accuracy: 0.637000\n",
      "Epoch 32, CIFAR-10 Batch 2:  Loss:     0.9426 Validation Accuracy: 0.642200\n",
      "Epoch 32, CIFAR-10 Batch 3:  Loss:     0.8981 Validation Accuracy: 0.635400\n",
      "Epoch 32, CIFAR-10 Batch 4:  Loss:     0.9074 Validation Accuracy: 0.638200\n",
      "Epoch 32, CIFAR-10 Batch 5:  Loss:     0.8357 Validation Accuracy: 0.643200\n",
      "Epoch 33, CIFAR-10 Batch 1:  Loss:     0.8788 Validation Accuracy: 0.640000\n",
      "Epoch 33, CIFAR-10 Batch 2:  Loss:     0.9358 Validation Accuracy: 0.645800\n",
      "Epoch 33, CIFAR-10 Batch 3:  Loss:     0.8941 Validation Accuracy: 0.635200\n",
      "Epoch 33, CIFAR-10 Batch 4:  Loss:     0.8926 Validation Accuracy: 0.642600\n",
      "Epoch 33, CIFAR-10 Batch 5:  Loss:     0.8210 Validation Accuracy: 0.645600\n",
      "Epoch 34, CIFAR-10 Batch 1:  Loss:     0.8764 Validation Accuracy: 0.648200\n",
      "Epoch 34, CIFAR-10 Batch 2:  Loss:     0.9162 Validation Accuracy: 0.648400\n",
      "Epoch 34, CIFAR-10 Batch 3:  Loss:     0.8914 Validation Accuracy: 0.636600\n",
      "Epoch 34, CIFAR-10 Batch 4:  Loss:     0.8835 Validation Accuracy: 0.635800\n",
      "Epoch 34, CIFAR-10 Batch 5:  Loss:     0.8175 Validation Accuracy: 0.645600\n",
      "Epoch 35, CIFAR-10 Batch 1:  Loss:     0.8616 Validation Accuracy: 0.646400\n",
      "Epoch 35, CIFAR-10 Batch 2:  Loss:     0.9148 Validation Accuracy: 0.643000\n",
      "Epoch 35, CIFAR-10 Batch 3:  Loss:     0.8747 Validation Accuracy: 0.640200\n",
      "Epoch 35, CIFAR-10 Batch 4:  Loss:     0.8801 Validation Accuracy: 0.642800\n",
      "Epoch 35, CIFAR-10 Batch 5:  Loss:     0.8184 Validation Accuracy: 0.645400\n",
      "Epoch 36, CIFAR-10 Batch 1:  Loss:     0.8546 Validation Accuracy: 0.645800\n",
      "Epoch 36, CIFAR-10 Batch 2:  Loss:     0.9010 Validation Accuracy: 0.649200\n",
      "Epoch 36, CIFAR-10 Batch 3:  Loss:     0.8606 Validation Accuracy: 0.645600\n",
      "Epoch 36, CIFAR-10 Batch 4:  Loss:     0.8749 Validation Accuracy: 0.644400\n",
      "Epoch 36, CIFAR-10 Batch 5:  Loss:     0.8012 Validation Accuracy: 0.649000\n",
      "Epoch 37, CIFAR-10 Batch 1:  Loss:     0.8497 Validation Accuracy: 0.648800\n",
      "Epoch 37, CIFAR-10 Batch 2:  Loss:     0.8970 Validation Accuracy: 0.648400\n",
      "Epoch 37, CIFAR-10 Batch 3:  Loss:     0.8625 Validation Accuracy: 0.644800\n",
      "Epoch 37, CIFAR-10 Batch 4:  Loss:     0.8674 Validation Accuracy: 0.643400\n",
      "Epoch 37, CIFAR-10 Batch 5:  Loss:     0.8077 Validation Accuracy: 0.649600\n",
      "Epoch 38, CIFAR-10 Batch 1:  Loss:     0.8444 Validation Accuracy: 0.648600\n",
      "Epoch 38, CIFAR-10 Batch 2:  Loss:     0.8861 Validation Accuracy: 0.654200\n",
      "Epoch 38, CIFAR-10 Batch 3:  Loss:     0.8570 Validation Accuracy: 0.646000\n",
      "Epoch 38, CIFAR-10 Batch 4:  Loss:     0.8649 Validation Accuracy: 0.644400\n",
      "Epoch 38, CIFAR-10 Batch 5:  Loss:     0.7891 Validation Accuracy: 0.649200\n",
      "Epoch 39, CIFAR-10 Batch 1:  Loss:     0.8381 Validation Accuracy: 0.648800\n",
      "Epoch 39, CIFAR-10 Batch 2:  Loss:     0.8827 Validation Accuracy: 0.648400\n",
      "Epoch 39, CIFAR-10 Batch 3:  Loss:     0.8327 Validation Accuracy: 0.652200\n",
      "Epoch 39, CIFAR-10 Batch 4:  Loss:     0.8490 Validation Accuracy: 0.649200\n",
      "Epoch 39, CIFAR-10 Batch 5:  Loss:     0.7796 Validation Accuracy: 0.651600\n",
      "Epoch 40, CIFAR-10 Batch 1:  Loss:     0.8268 Validation Accuracy: 0.656800\n",
      "Epoch 40, CIFAR-10 Batch 2:  Loss:     0.8586 Validation Accuracy: 0.653000\n",
      "Epoch 40, CIFAR-10 Batch 3:  Loss:     0.8282 Validation Accuracy: 0.648400\n",
      "Epoch 40, CIFAR-10 Batch 4:  Loss:     0.8398 Validation Accuracy: 0.651000\n",
      "Epoch 40, CIFAR-10 Batch 5:  Loss:     0.7680 Validation Accuracy: 0.655400\n",
      "Epoch 41, CIFAR-10 Batch 1:  Loss:     0.8118 Validation Accuracy: 0.654200\n",
      "Epoch 41, CIFAR-10 Batch 2:  Loss:     0.8612 Validation Accuracy: 0.654200\n",
      "Epoch 41, CIFAR-10 Batch 3:  Loss:     0.8208 Validation Accuracy: 0.653800\n",
      "Epoch 41, CIFAR-10 Batch 4:  Loss:     0.8355 Validation Accuracy: 0.645000\n",
      "Epoch 41, CIFAR-10 Batch 5:  Loss:     0.7699 Validation Accuracy: 0.653400\n",
      "Epoch 42, CIFAR-10 Batch 1:  Loss:     0.8124 Validation Accuracy: 0.656000\n",
      "Epoch 42, CIFAR-10 Batch 2:  Loss:     0.8543 Validation Accuracy: 0.660000\n",
      "Epoch 42, CIFAR-10 Batch 3:  Loss:     0.8096 Validation Accuracy: 0.647200\n",
      "Epoch 42, CIFAR-10 Batch 4:  Loss:     0.8206 Validation Accuracy: 0.651400\n",
      "Epoch 42, CIFAR-10 Batch 5:  Loss:     0.7535 Validation Accuracy: 0.654000\n",
      "Epoch 43, CIFAR-10 Batch 1:  Loss:     0.8003 Validation Accuracy: 0.658200\n",
      "Epoch 43, CIFAR-10 Batch 2:  Loss:     0.8464 Validation Accuracy: 0.657600\n",
      "Epoch 43, CIFAR-10 Batch 3:  Loss:     0.8064 Validation Accuracy: 0.650000\n",
      "Epoch 43, CIFAR-10 Batch 4:  Loss:     0.8142 Validation Accuracy: 0.654200\n",
      "Epoch 43, CIFAR-10 Batch 5:  Loss:     0.7493 Validation Accuracy: 0.655800\n",
      "Epoch 44, CIFAR-10 Batch 1:  Loss:     0.7996 Validation Accuracy: 0.659800\n",
      "Epoch 44, CIFAR-10 Batch 2:  Loss:     0.8385 Validation Accuracy: 0.658400\n",
      "Epoch 44, CIFAR-10 Batch 3:  Loss:     0.7951 Validation Accuracy: 0.655600\n",
      "Epoch 44, CIFAR-10 Batch 4:  Loss:     0.8137 Validation Accuracy: 0.651800\n",
      "Epoch 44, CIFAR-10 Batch 5:  Loss:     0.7431 Validation Accuracy: 0.658200\n",
      "Epoch 45, CIFAR-10 Batch 1:  Loss:     0.7890 Validation Accuracy: 0.654800\n",
      "Epoch 45, CIFAR-10 Batch 2:  Loss:     0.8413 Validation Accuracy: 0.656000\n",
      "Epoch 45, CIFAR-10 Batch 3:  Loss:     0.7943 Validation Accuracy: 0.651800\n",
      "Epoch 45, CIFAR-10 Batch 4:  Loss:     0.7972 Validation Accuracy: 0.649200\n",
      "Epoch 45, CIFAR-10 Batch 5:  Loss:     0.7318 Validation Accuracy: 0.659400\n",
      "Epoch 46, CIFAR-10 Batch 1:  Loss:     0.7858 Validation Accuracy: 0.659600\n",
      "Epoch 46, CIFAR-10 Batch 2:  Loss:     0.8373 Validation Accuracy: 0.656400\n",
      "Epoch 46, CIFAR-10 Batch 3:  Loss:     0.7913 Validation Accuracy: 0.657200\n",
      "Epoch 46, CIFAR-10 Batch 4:  Loss:     0.7982 Validation Accuracy: 0.653800\n",
      "Epoch 46, CIFAR-10 Batch 5:  Loss:     0.7293 Validation Accuracy: 0.659200\n",
      "Epoch 47, CIFAR-10 Batch 1:  Loss:     0.7806 Validation Accuracy: 0.657200\n",
      "Epoch 47, CIFAR-10 Batch 2:  Loss:     0.8219 Validation Accuracy: 0.662800\n",
      "Epoch 47, CIFAR-10 Batch 3:  Loss:     0.7738 Validation Accuracy: 0.659400\n",
      "Epoch 47, CIFAR-10 Batch 4:  Loss:     0.7954 Validation Accuracy: 0.656600\n",
      "Epoch 47, CIFAR-10 Batch 5:  Loss:     0.7314 Validation Accuracy: 0.659200\n",
      "Epoch 48, CIFAR-10 Batch 1:  Loss:     0.7835 Validation Accuracy: 0.661200\n",
      "Epoch 48, CIFAR-10 Batch 2:  Loss:     0.8155 Validation Accuracy: 0.662000\n",
      "Epoch 48, CIFAR-10 Batch 3:  Loss:     0.7766 Validation Accuracy: 0.660600\n",
      "Epoch 48, CIFAR-10 Batch 4:  Loss:     0.7784 Validation Accuracy: 0.660600\n",
      "Epoch 48, CIFAR-10 Batch 5:  Loss:     0.7156 Validation Accuracy: 0.663000\n",
      "Epoch 49, CIFAR-10 Batch 1:  Loss:     0.7706 Validation Accuracy: 0.662400\n",
      "Epoch 49, CIFAR-10 Batch 2:  Loss:     0.8091 Validation Accuracy: 0.662400\n",
      "Epoch 49, CIFAR-10 Batch 3:  Loss:     0.7751 Validation Accuracy: 0.656600\n",
      "Epoch 49, CIFAR-10 Batch 4:  Loss:     0.7744 Validation Accuracy: 0.652400\n",
      "Epoch 49, CIFAR-10 Batch 5:  Loss:     0.7208 Validation Accuracy: 0.656400\n",
      "Epoch 50, CIFAR-10 Batch 1:  Loss:     0.7735 Validation Accuracy: 0.663400\n",
      "Epoch 50, CIFAR-10 Batch 2:  Loss:     0.8075 Validation Accuracy: 0.663800\n",
      "Epoch 50, CIFAR-10 Batch 3:  Loss:     0.7780 Validation Accuracy: 0.656600\n",
      "Epoch 50, CIFAR-10 Batch 4:  Loss:     0.7806 Validation Accuracy: 0.655400\n",
      "Epoch 50, CIFAR-10 Batch 5:  Loss:     0.6996 Validation Accuracy: 0.664000\n",
      "Epoch 51, CIFAR-10 Batch 1:  Loss:     0.7527 Validation Accuracy: 0.666000\n",
      "Epoch 51, CIFAR-10 Batch 2:  Loss:     0.7916 Validation Accuracy: 0.667600\n",
      "Epoch 51, CIFAR-10 Batch 3:  Loss:     0.7538 Validation Accuracy: 0.666800\n",
      "Epoch 51, CIFAR-10 Batch 4:  Loss:     0.7574 Validation Accuracy: 0.659000\n",
      "Epoch 51, CIFAR-10 Batch 5:  Loss:     0.6909 Validation Accuracy: 0.666000\n",
      "Epoch 52, CIFAR-10 Batch 1:  Loss:     0.7482 Validation Accuracy: 0.666000\n",
      "Epoch 52, CIFAR-10 Batch 2:  Loss:     0.7856 Validation Accuracy: 0.668400\n",
      "Epoch 52, CIFAR-10 Batch 3:  Loss:     0.7538 Validation Accuracy: 0.665600\n",
      "Epoch 52, CIFAR-10 Batch 4:  Loss:     0.7676 Validation Accuracy: 0.656600\n",
      "Epoch 52, CIFAR-10 Batch 5:  Loss:     0.6905 Validation Accuracy: 0.666600\n",
      "Epoch 53, CIFAR-10 Batch 1:  Loss:     0.7604 Validation Accuracy: 0.661000\n",
      "Epoch 53, CIFAR-10 Batch 2:  Loss:     0.7906 Validation Accuracy: 0.661000\n",
      "Epoch 53, CIFAR-10 Batch 3:  Loss:     0.7345 Validation Accuracy: 0.665000\n",
      "Epoch 53, CIFAR-10 Batch 4:  Loss:     0.7465 Validation Accuracy: 0.665000\n",
      "Epoch 53, CIFAR-10 Batch 5:  Loss:     0.6786 Validation Accuracy: 0.664400\n",
      "Epoch 54, CIFAR-10 Batch 1:  Loss:     0.7301 Validation Accuracy: 0.663600\n",
      "Epoch 54, CIFAR-10 Batch 2:  Loss:     0.7785 Validation Accuracy: 0.665400\n",
      "Epoch 54, CIFAR-10 Batch 3:  Loss:     0.7567 Validation Accuracy: 0.660800\n",
      "Epoch 54, CIFAR-10 Batch 4:  Loss:     0.7505 Validation Accuracy: 0.659800\n",
      "Epoch 54, CIFAR-10 Batch 5:  Loss:     0.6839 Validation Accuracy: 0.666600\n",
      "Epoch 55, CIFAR-10 Batch 1:  Loss:     0.7389 Validation Accuracy: 0.665600\n",
      "Epoch 55, CIFAR-10 Batch 2:  Loss:     0.7672 Validation Accuracy: 0.668600\n",
      "Epoch 55, CIFAR-10 Batch 3:  Loss:     0.7372 Validation Accuracy: 0.660200\n",
      "Epoch 55, CIFAR-10 Batch 4:  Loss:     0.7549 Validation Accuracy: 0.657800\n",
      "Epoch 55, CIFAR-10 Batch 5:  Loss:     0.6829 Validation Accuracy: 0.664800\n",
      "Epoch 56, CIFAR-10 Batch 1:  Loss:     0.7342 Validation Accuracy: 0.668400\n",
      "Epoch 56, CIFAR-10 Batch 2:  Loss:     0.7647 Validation Accuracy: 0.669800\n",
      "Epoch 56, CIFAR-10 Batch 3:  Loss:     0.7330 Validation Accuracy: 0.664200\n",
      "Epoch 56, CIFAR-10 Batch 4:  Loss:     0.7296 Validation Accuracy: 0.664600\n",
      "Epoch 56, CIFAR-10 Batch 5:  Loss:     0.6626 Validation Accuracy: 0.659400\n",
      "Epoch 57, CIFAR-10 Batch 1:  Loss:     0.7208 Validation Accuracy: 0.670400\n",
      "Epoch 57, CIFAR-10 Batch 2:  Loss:     0.7425 Validation Accuracy: 0.670000\n",
      "Epoch 57, CIFAR-10 Batch 3:  Loss:     0.7541 Validation Accuracy: 0.654400\n",
      "Epoch 57, CIFAR-10 Batch 4:  Loss:     0.7354 Validation Accuracy: 0.663400\n",
      "Epoch 57, CIFAR-10 Batch 5:  Loss:     0.6588 Validation Accuracy: 0.668400\n",
      "Epoch 58, CIFAR-10 Batch 1:  Loss:     0.7147 Validation Accuracy: 0.669000\n",
      "Epoch 58, CIFAR-10 Batch 2:  Loss:     0.7568 Validation Accuracy: 0.666600\n",
      "Epoch 58, CIFAR-10 Batch 3:  Loss:     0.7255 Validation Accuracy: 0.658800\n",
      "Epoch 58, CIFAR-10 Batch 4:  Loss:     0.7227 Validation Accuracy: 0.665200\n",
      "Epoch 58, CIFAR-10 Batch 5:  Loss:     0.6794 Validation Accuracy: 0.663600\n",
      "Epoch 59, CIFAR-10 Batch 1:  Loss:     0.7159 Validation Accuracy: 0.664400\n",
      "Epoch 59, CIFAR-10 Batch 2:  Loss:     0.7452 Validation Accuracy: 0.665600\n",
      "Epoch 59, CIFAR-10 Batch 3:  Loss:     0.7122 Validation Accuracy: 0.663000\n",
      "Epoch 59, CIFAR-10 Batch 4:  Loss:     0.7101 Validation Accuracy: 0.666200\n",
      "Epoch 59, CIFAR-10 Batch 5:  Loss:     0.6528 Validation Accuracy: 0.671600\n",
      "Epoch 60, CIFAR-10 Batch 1:  Loss:     0.7008 Validation Accuracy: 0.667400\n",
      "Epoch 60, CIFAR-10 Batch 2:  Loss:     0.7290 Validation Accuracy: 0.659000\n",
      "Epoch 60, CIFAR-10 Batch 3:  Loss:     0.7053 Validation Accuracy: 0.668600\n",
      "Epoch 60, CIFAR-10 Batch 4:  Loss:     0.7174 Validation Accuracy: 0.664200\n",
      "Epoch 60, CIFAR-10 Batch 5:  Loss:     0.6518 Validation Accuracy: 0.670600\n"
     ]
    }
   ],
   "source": [
    "\"\"\"\n",
    "DON'T MODIFY ANYTHING IN THIS CELL\n",
    "\"\"\"\n",
    "save_model_path = './image_classification'\n",
    "\n",
    "print('Training...')\n",
    "with tf.Session() as sess:\n",
    "    # Initializing the variables\n",
    "    sess.run(tf.global_variables_initializer())\n",
    "    \n",
    "    # Training cycle\n",
    "    for epoch in range(epochs):\n",
    "        # Loop over all batches\n",
    "        n_batches = 5\n",
    "        for batch_i in range(1, n_batches + 1):\n",
    "            for batch_features, batch_labels in helper.load_preprocess_training_batch(batch_i, batch_size):\n",
    "                train_neural_network(sess, optimizer, keep_probability, batch_features, batch_labels)\n",
    "            print('Epoch {:>2}, CIFAR-10 Batch {}:  '.format(epoch + 1, batch_i), end='')\n",
    "            print_stats(sess, batch_features, batch_labels, cost, accuracy)\n",
    "            \n",
    "    # Save Model\n",
    "    saver = tf.train.Saver()\n",
    "    save_path = saver.save(sess, save_model_path)"
   ]
  },
  {
   "cell_type": "markdown",
   "metadata": {
    "deletable": true,
    "editable": true
   },
   "source": [
    "# Checkpoint\n",
    "The model has been saved to disk.\n",
    "## Test Model\n",
    "Test your model against the test dataset.  This will be your final accuracy. You should have an accuracy greater than 50%. If you don't, keep tweaking the model architecture and parameters."
   ]
  },
  {
   "cell_type": "code",
   "execution_count": 20,
   "metadata": {
    "collapsed": false,
    "deletable": true,
    "editable": true
   },
   "outputs": [
    {
     "name": "stdout",
     "output_type": "stream",
     "text": [
      "Testing Accuracy: 0.6720942258834839\n",
      "\n"
     ]
    },
    {
     "data": {
      "image/png": "[encoded data removed]",
      "text/plain": [
       "<matplotlib.figure.Figure at 0x7f28cdf3ef28>"
      ]
     },
     "metadata": {
      "image/png": {
       "height": 319,
       "width": 355
      }
     },
     "output_type": "display_data"
    }
   ],
   "source": [
    "\"\"\"\n",
    "DON'T MODIFY ANYTHING IN THIS CELL\n",
    "\"\"\"\n",
    "%matplotlib inline\n",
    "%config InlineBackend.figure_format = 'retina'\n",
    "\n",
    "import tensorflow as tf\n",
    "import pickle\n",
    "import helper\n",
    "import random\n",
    "\n",
    "# Set batch size if not already set\n",
    "try:\n",
    "    if batch_size:\n",
    "        pass\n",
    "except NameError:\n",
    "    batch_size = 64\n",
    "\n",
    "save_model_path = './image_classification'\n",
    "n_samples = 4\n",
    "top_n_predictions = 3\n",
    "\n",
    "def test_model():\n",
    "    \"\"\"\n",
    "    Test the saved model against the test dataset\n",
    "    \"\"\"\n",
    "\n",
    "    test_features, test_labels = pickle.load(open('preprocess_test.p', mode='rb'))\n",
    "    loaded_graph = tf.Graph()\n",
    "\n",
    "    with tf.Session(graph=loaded_graph) as sess:\n",
    "        # Load model\n",
    "        loader = tf.train.import_meta_graph(save_model_path + '.meta')\n",
    "        loader.restore(sess, save_model_path)\n",
    "\n",
    "        # Get Tensors from loaded model\n",
    "        loaded_x = loaded_graph.get_tensor_by_name('x:0')\n",
    "        loaded_y = loaded_graph.get_tensor_by_name('y:0')\n",
    "        loaded_keep_prob = loaded_graph.get_tensor_by_name('keep_prob:0')\n",
    "        loaded_logits = loaded_graph.get_tensor_by_name('logits:0')\n",
    "        loaded_acc = loaded_graph.get_tensor_by_name('accuracy:0')\n",
    "        \n",
    "        # Get accuracy in batches for memory limitations\n",
    "        test_batch_acc_total = 0\n",
    "        test_batch_count = 0\n",
    "        \n",
    "        for test_feature_batch, test_label_batch in helper.batch_features_labels(test_features, test_labels, batch_size):\n",
    "            test_batch_acc_total += sess.run(\n",
    "                loaded_acc,\n",
    "                feed_dict={loaded_x: test_feature_batch, loaded_y: test_label_batch, loaded_keep_prob: 1.0})\n",
    "            test_batch_count += 1\n",
    "\n",
    "        print('Testing Accuracy: {}\\n'.format(test_batch_acc_total/test_batch_count))\n",
    "\n",
    "        # Print Random Samples\n",
    "        random_test_features, random_test_labels = tuple(zip(*random.sample(list(zip(test_features, test_labels)), n_samples)))\n",
    "        random_test_predictions = sess.run(\n",
    "            tf.nn.top_k(tf.nn.softmax(loaded_logits), top_n_predictions),\n",
    "            feed_dict={loaded_x: random_test_features, loaded_y: random_test_labels, loaded_keep_prob: 1.0})\n",
    "        helper.display_image_predictions(random_test_features, random_test_labels, random_test_predictions)\n",
    "\n",
    "\n",
    "test_model()"
   ]
  },
  {
   "cell_type": "markdown",
   "metadata": {
    "deletable": true,
    "editable": true
   },
   "source": [
    "## Why 50-80% Accuracy?\n",
    "You might be wondering why you can't get an accuracy any higher. First things first, 50% isn't bad for a simple CNN.  Pure guessing would get you 10% accuracy. However, you might notice people are getting scores [well above 80%](http://rodrigob.github.io/are_we_there_yet/build/classification_datasets_results.html#43494641522d3130).  That's because we haven't taught you all there is to know about neural networks. We still need to cover a few more techniques.\n",
    "## Submitting This Project\n",
    "When submitting this project, make sure to run all the cells before saving the notebook.  Save the notebook file as \"dlnd_image_classification.ipynb\" and save it as a HTML file under \"File\" -> \"Download as\".  Include the \"helper.py\" and \"problem_unittests.py\" files in your submission."
   ]
  }
 ],
 "metadata": {
  "kernelspec": {
   "display_name": "Python 3",
   "language": "python",
   "name": "python3"
  },
  "language_info": {
   "codemirror_mode": {
    "name": "ipython",
    "version": 3
   },
   "file_extension": ".py",
   "mimetype": "text/x-python",
   "name": "python",
   "nbconvert_exporter": "python",
   "pygments_lexer": "ipython3",
   "version": "3.5.2"
  },
  "widgets": {
   "state": {},
   "version": "1.1.2"
  }
 },
 "nbformat": 4,
 "nbformat_minor": 1
}
